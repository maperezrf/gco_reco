{
 "cells": [
  {
   "cell_type": "code",
   "execution_count": 95,
   "id": "e5abd617",
   "metadata": {},
   "outputs": [],
   "source": [
    "import pandas as pd\n",
    "pd.set_option('display.max_columns', 200)\n",
    "import numpy as np\n",
    "from datetime import timedelta, datetime \n",
    "import plotly.express as px"
   ]
  },
  {
   "cell_type": "code",
   "execution_count": 96,
   "id": "33bb5d40",
   "metadata": {},
   "outputs": [],
   "source": [
    "fecha_corte = '2022-11-04'\n",
    "dt_string = datetime.now().strftime('%y%m%d')"
   ]
  },
  {
   "cell_type": "code",
   "execution_count": 97,
   "id": "a8e52318",
   "metadata": {
    "scrolled": true
   },
   "outputs": [],
   "source": [
    "fc = '221104'\n",
    "fc_file = '221104'\n",
    "res = pd.read_excel(f'output/{fc}/{fc_file}_resultado_recobro.xlsx', sheet_name='F4', dtype=str)\n",
    "res.columns = [col.upper() for col in res.columns]\n",
    "res['FECHA_RESERVA'] = pd.to_datetime(res['FECHA_RESERVA'], format='%Y-%m-%d')\n",
    "res['FECHA REGISTR.DIARIO'] = pd.to_datetime(res['FECHA REGISTR.DIARIO'], format='%Y-%m-%d')\n",
    "res['TOTAL_COSTO'] = pd.to_numeric(res['TOTAL_COSTO'])\n",
    "res['mes_f4'] = res['FECHA_RESERVA'].dt.strftime('%b')\n",
    "res['mes_sap'] = res['FECHA REGISTR.DIARIO'].dt.strftime('%b-%y')\n",
    "res['IMPORTE (MON.SOC.)'] = pd.to_numeric(res['IMPORTE (MON.SOC.)'])\n",
    "#res['costo_total_f11_cd'] = pd.to_numeric(res['costo_total_f11_cd'])\n",
    "res['ENVIADO_CONTABILIDAD'] = res['ENVIADO_CONTABILIDAD'].str.strip()\n",
    "res['DOC_CONTABLE'] = res['DOC_CONTABLE'].str.strip()"
   ]
  },
  {
   "cell_type": "code",
   "execution_count": 98,
   "id": "49b3d06a",
   "metadata": {},
   "outputs": [
    {
     "data": {
      "text/html": [
       "<div>\n",
       "<style scoped>\n",
       "    .dataframe tbody tr th:only-of-type {\n",
       "        vertical-align: middle;\n",
       "    }\n",
       "\n",
       "    .dataframe tbody tr th {\n",
       "        vertical-align: top;\n",
       "    }\n",
       "\n",
       "    .dataframe thead th {\n",
       "        text-align: right;\n",
       "    }\n",
       "</style>\n",
       "<table border=\"1\" class=\"dataframe\">\n",
       "  <thead>\n",
       "    <tr style=\"text-align: right;\">\n",
       "      <th></th>\n",
       "      <th>LOCAL</th>\n",
       "      <th>FECHA_RESERVA</th>\n",
       "      <th>CTECH_KEY</th>\n",
       "      <th>NFOLIO</th>\n",
       "      <th>TRANSPORTADORA_F4</th>\n",
       "      <th>DOC_CONTABLE</th>\n",
       "      <th>REF_SAP</th>\n",
       "      <th>ENVIADO_CONTABILIDAD</th>\n",
       "      <th>FECHA REGISTR.DIARIO</th>\n",
       "      <th>ASIENTO COMPENSACIÓN</th>\n",
       "      <th>AC CREADO POR</th>\n",
       "      <th>TRANSPORTADORA_SAP</th>\n",
       "      <th>TP.ASIENTO CONTABLE</th>\n",
       "      <th>INDICADOR SAP</th>\n",
       "      <th>IMPORTE (MON.SOC.)</th>\n",
       "      <th>TOTAL_COSTO</th>\n",
       "      <th>mes_f4</th>\n",
       "      <th>mes_sap</th>\n",
       "    </tr>\n",
       "  </thead>\n",
       "  <tbody>\n",
       "    <tr>\n",
       "      <th>4561</th>\n",
       "      <td>9903 - CD FALABELLA</td>\n",
       "      <td>2022-11-01 10:19:16</td>\n",
       "      <td>46921833</td>\n",
       "      <td>NaN</td>\n",
       "      <td>Tcc</td>\n",
       "      <td>F4 DE MERMA</td>\n",
       "      <td>F4 DE MERMA</td>\n",
       "      <td>F4 DE MERMA</td>\n",
       "      <td>NaT</td>\n",
       "      <td>NaN</td>\n",
       "      <td>NaN</td>\n",
       "      <td>NaN</td>\n",
       "      <td>NaN</td>\n",
       "      <td>No encontrado en SAP</td>\n",
       "      <td>0</td>\n",
       "      <td>139900</td>\n",
       "      <td>Nov</td>\n",
       "      <td>NaN</td>\n",
       "    </tr>\n",
       "  </tbody>\n",
       "</table>\n",
       "</div>"
      ],
      "text/plain": [
       "                    LOCAL       FECHA_RESERVA CTECH_KEY NFOLIO  \\\n",
       "4561  9903 - CD FALABELLA 2022-11-01 10:19:16  46921833    NaN   \n",
       "\n",
       "     TRANSPORTADORA_F4 DOC_CONTABLE      REF_SAP ENVIADO_CONTABILIDAD  \\\n",
       "4561               Tcc  F4 DE MERMA  F4 DE MERMA          F4 DE MERMA   \n",
       "\n",
       "     FECHA REGISTR.DIARIO ASIENTO COMPENSACIÓN AC CREADO POR  \\\n",
       "4561                  NaT                  NaN           NaN   \n",
       "\n",
       "     TRANSPORTADORA_SAP TP.ASIENTO CONTABLE         INDICADOR SAP  \\\n",
       "4561                NaN                 NaN  No encontrado en SAP   \n",
       "\n",
       "      IMPORTE (MON.SOC.)  TOTAL_COSTO mes_f4 mes_sap  \n",
       "4561                   0       139900    Nov     NaN  "
      ]
     },
     "execution_count": 98,
     "metadata": {},
     "output_type": "execute_result"
    }
   ],
   "source": [
    "res.loc[res['ENVIADO_CONTABILIDAD'] =='F4 DE MERMA']"
   ]
  },
  {
   "cell_type": "code",
   "execution_count": 99,
   "id": "1390b8d1",
   "metadata": {},
   "outputs": [
    {
     "name": "stdout",
     "output_type": "stream",
     "text": [
      "La base de f11 tiene (84180, 39) registros con (70743, 7) f11s unicos, \n"
     ]
    }
   ],
   "source": [
    "f11 = pd.read_csv('C:/Users/maperezr/OneDrive - Falabella/General/DATA/F11/221010_f11.csv', sep=';', dtype='object') \n",
    "f11['FECHA_CREACION'] = pd.to_datetime(f11['FECHA_CREACION'], format='%Y-%m-%d')\n",
    "f11['TOTAL_COSTO'] = pd.to_numeric(f11['TOTAL_COSTO'])\n",
    "gb_f11 = f11.groupby(['NRO_F11', 'FECHA_CREACION', 'PROPIETARIO', 'ESTADO', 'SERVICIO', 'GRUPO'])['TOTAL_COSTO'].sum().reset_index()\n",
    "\n",
    "gb_f11.columns=['F11_' + col.upper() for col in gb_f11.columns]\n",
    "gb_f11.rename(columns={'F11_NRO_F11':'NFOLIO'}, inplace=True)\n",
    "\n",
    "print(f'La base de f11 tiene {f11.shape} registros con {gb_f11.shape} f11s unicos, ')"
   ]
  },
  {
   "cell_type": "code",
   "execution_count": 100,
   "id": "ac869b03",
   "metadata": {},
   "outputs": [
    {
     "data": {
      "text/html": [
       "<div>\n",
       "<style scoped>\n",
       "    .dataframe tbody tr th:only-of-type {\n",
       "        vertical-align: middle;\n",
       "    }\n",
       "\n",
       "    .dataframe tbody tr th {\n",
       "        vertical-align: top;\n",
       "    }\n",
       "\n",
       "    .dataframe thead th {\n",
       "        text-align: right;\n",
       "    }\n",
       "</style>\n",
       "<table border=\"1\" class=\"dataframe\">\n",
       "  <thead>\n",
       "    <tr style=\"text-align: right;\">\n",
       "      <th></th>\n",
       "      <th>NFOLIO</th>\n",
       "      <th>F11_FECHA_CREACION</th>\n",
       "      <th>F11_PROPIETARIO</th>\n",
       "      <th>F11_ESTADO</th>\n",
       "      <th>F11_SERVICIO</th>\n",
       "      <th>F11_GRUPO</th>\n",
       "      <th>F11_TOTAL_COSTO</th>\n",
       "    </tr>\n",
       "  </thead>\n",
       "  <tbody>\n",
       "    <tr>\n",
       "      <th>0</th>\n",
       "      <td>1111187383</td>\n",
       "      <td>2021-10-10</td>\n",
       "      <td>EMPRESA</td>\n",
       "      <td>Entrega total</td>\n",
       "      <td>S.TECNICO</td>\n",
       "      <td>TIENDAS</td>\n",
       "      <td>1775551.262</td>\n",
       "    </tr>\n",
       "    <tr>\n",
       "      <th>1</th>\n",
       "      <td>1111187390</td>\n",
       "      <td>2021-10-10</td>\n",
       "      <td>EMPRESA</td>\n",
       "      <td>Entrega total</td>\n",
       "      <td>S.TECNICO</td>\n",
       "      <td>TIENDAS</td>\n",
       "      <td>713290.766</td>\n",
       "    </tr>\n",
       "    <tr>\n",
       "      <th>2</th>\n",
       "      <td>1111187406</td>\n",
       "      <td>2021-10-10</td>\n",
       "      <td>EMPRESA</td>\n",
       "      <td>Entrega total</td>\n",
       "      <td>S.TECNICO</td>\n",
       "      <td>TIENDAS</td>\n",
       "      <td>633048.943</td>\n",
       "    </tr>\n",
       "    <tr>\n",
       "      <th>3</th>\n",
       "      <td>1111187697</td>\n",
       "      <td>2021-10-11</td>\n",
       "      <td>EMPRESA</td>\n",
       "      <td>Entrega total</td>\n",
       "      <td>S.TECNICO</td>\n",
       "      <td>TIENDAS</td>\n",
       "      <td>732866.000</td>\n",
       "    </tr>\n",
       "    <tr>\n",
       "      <th>4</th>\n",
       "      <td>1111187703</td>\n",
       "      <td>2021-10-11</td>\n",
       "      <td>EMPRESA</td>\n",
       "      <td>Entrega total</td>\n",
       "      <td>RETIRO F12</td>\n",
       "      <td>CD</td>\n",
       "      <td>54498.009</td>\n",
       "    </tr>\n",
       "  </tbody>\n",
       "</table>\n",
       "</div>"
      ],
      "text/plain": [
       "       NFOLIO F11_FECHA_CREACION F11_PROPIETARIO     F11_ESTADO F11_SERVICIO  \\\n",
       "0  1111187383         2021-10-10         EMPRESA  Entrega total    S.TECNICO   \n",
       "1  1111187390         2021-10-10         EMPRESA  Entrega total    S.TECNICO   \n",
       "2  1111187406         2021-10-10         EMPRESA  Entrega total    S.TECNICO   \n",
       "3  1111187697         2021-10-11         EMPRESA  Entrega total    S.TECNICO   \n",
       "4  1111187703         2021-10-11         EMPRESA  Entrega total   RETIRO F12   \n",
       "\n",
       "  F11_GRUPO  F11_TOTAL_COSTO  \n",
       "0   TIENDAS      1775551.262  \n",
       "1   TIENDAS       713290.766  \n",
       "2   TIENDAS       633048.943  \n",
       "3   TIENDAS       732866.000  \n",
       "4        CD        54498.009  "
      ]
     },
     "execution_count": 100,
     "metadata": {},
     "output_type": "execute_result"
    }
   ],
   "source": [
    "gb_f11.head()"
   ]
  },
  {
   "cell_type": "code",
   "execution_count": 101,
   "id": "349db9e9",
   "metadata": {},
   "outputs": [
    {
     "data": {
      "text/html": [
       "<div>\n",
       "<style scoped>\n",
       "    .dataframe tbody tr th:only-of-type {\n",
       "        vertical-align: middle;\n",
       "    }\n",
       "\n",
       "    .dataframe tbody tr th {\n",
       "        vertical-align: top;\n",
       "    }\n",
       "\n",
       "    .dataframe thead th {\n",
       "        text-align: right;\n",
       "    }\n",
       "</style>\n",
       "<table border=\"1\" class=\"dataframe\">\n",
       "  <thead>\n",
       "    <tr style=\"text-align: right;\">\n",
       "      <th></th>\n",
       "      <th>NFOLIO</th>\n",
       "      <th>F11_FECHA_CREACION</th>\n",
       "      <th>F11_PROPIETARIO</th>\n",
       "      <th>F11_ESTADO</th>\n",
       "      <th>F11_SERVICIO</th>\n",
       "      <th>F11_GRUPO</th>\n",
       "      <th>F11_TOTAL_COSTO</th>\n",
       "    </tr>\n",
       "  </thead>\n",
       "  <tbody>\n",
       "    <tr>\n",
       "      <th>5024</th>\n",
       "      <td>1111259424</td>\n",
       "      <td>2021-11-13</td>\n",
       "      <td>CLIENTE</td>\n",
       "      <td>Despachado</td>\n",
       "      <td>RETIRO F12</td>\n",
       "      <td>CD</td>\n",
       "      <td>55410.000</td>\n",
       "    </tr>\n",
       "    <tr>\n",
       "      <th>5025</th>\n",
       "      <td>1111259424</td>\n",
       "      <td>2021-11-13</td>\n",
       "      <td>EMPRESA</td>\n",
       "      <td>Despachado</td>\n",
       "      <td>RETIRO F12</td>\n",
       "      <td>CD</td>\n",
       "      <td>82922.445</td>\n",
       "    </tr>\n",
       "    <tr>\n",
       "      <th>14776</th>\n",
       "      <td>1111381705</td>\n",
       "      <td>2021-12-23</td>\n",
       "      <td>CLIENTE</td>\n",
       "      <td>Despachado</td>\n",
       "      <td>RETIRO F12</td>\n",
       "      <td>CD</td>\n",
       "      <td>33313.590</td>\n",
       "    </tr>\n",
       "    <tr>\n",
       "      <th>14777</th>\n",
       "      <td>1111381705</td>\n",
       "      <td>2021-12-23</td>\n",
       "      <td>EMPRESA</td>\n",
       "      <td>Despachado</td>\n",
       "      <td>RETIRO F12</td>\n",
       "      <td>CD</td>\n",
       "      <td>59219.638</td>\n",
       "    </tr>\n",
       "    <tr>\n",
       "      <th>48206</th>\n",
       "      <td>1111783103</td>\n",
       "      <td>2022-07-07</td>\n",
       "      <td>CLIENTE</td>\n",
       "      <td>Despachado</td>\n",
       "      <td>RETIRO F12</td>\n",
       "      <td>CD</td>\n",
       "      <td>109350.000</td>\n",
       "    </tr>\n",
       "    <tr>\n",
       "      <th>48207</th>\n",
       "      <td>1111783103</td>\n",
       "      <td>2022-07-07</td>\n",
       "      <td>EMPRESA</td>\n",
       "      <td>Despachado</td>\n",
       "      <td>RETIRO F12</td>\n",
       "      <td>CD</td>\n",
       "      <td>115470.000</td>\n",
       "    </tr>\n",
       "  </tbody>\n",
       "</table>\n",
       "</div>"
      ],
      "text/plain": [
       "           NFOLIO F11_FECHA_CREACION F11_PROPIETARIO  F11_ESTADO F11_SERVICIO  \\\n",
       "5024   1111259424         2021-11-13         CLIENTE  Despachado   RETIRO F12   \n",
       "5025   1111259424         2021-11-13         EMPRESA  Despachado   RETIRO F12   \n",
       "14776  1111381705         2021-12-23         CLIENTE  Despachado   RETIRO F12   \n",
       "14777  1111381705         2021-12-23         EMPRESA  Despachado   RETIRO F12   \n",
       "48206  1111783103         2022-07-07         CLIENTE  Despachado   RETIRO F12   \n",
       "48207  1111783103         2022-07-07         EMPRESA  Despachado   RETIRO F12   \n",
       "\n",
       "      F11_GRUPO  F11_TOTAL_COSTO  \n",
       "5024         CD        55410.000  \n",
       "5025         CD        82922.445  \n",
       "14776        CD        33313.590  \n",
       "14777        CD        59219.638  \n",
       "48206        CD       109350.000  \n",
       "48207        CD       115470.000  "
      ]
     },
     "execution_count": 101,
     "metadata": {},
     "output_type": "execute_result"
    }
   ],
   "source": [
    "gb_f11.loc[gb_f11.duplicated('NFOLIO', keep=False)]"
   ]
  },
  {
   "cell_type": "code",
   "execution_count": 102,
   "id": "35a91abd",
   "metadata": {},
   "outputs": [],
   "source": [
    "completo = res.merge(gb_f11, how='left', on='NFOLIO')"
   ]
  },
  {
   "cell_type": "code",
   "execution_count": 103,
   "id": "ec7d5cf1",
   "metadata": {},
   "outputs": [
    {
     "data": {
      "text/html": [
       "<div>\n",
       "<style scoped>\n",
       "    .dataframe tbody tr th:only-of-type {\n",
       "        vertical-align: middle;\n",
       "    }\n",
       "\n",
       "    .dataframe tbody tr th {\n",
       "        vertical-align: top;\n",
       "    }\n",
       "\n",
       "    .dataframe thead th {\n",
       "        text-align: right;\n",
       "    }\n",
       "</style>\n",
       "<table border=\"1\" class=\"dataframe\">\n",
       "  <thead>\n",
       "    <tr style=\"text-align: right;\">\n",
       "      <th></th>\n",
       "      <th>LOCAL</th>\n",
       "      <th>FECHA_RESERVA</th>\n",
       "      <th>CTECH_KEY</th>\n",
       "      <th>NFOLIO</th>\n",
       "      <th>TRANSPORTADORA_F4</th>\n",
       "      <th>DOC_CONTABLE</th>\n",
       "      <th>REF_SAP</th>\n",
       "      <th>ENVIADO_CONTABILIDAD</th>\n",
       "      <th>FECHA REGISTR.DIARIO</th>\n",
       "      <th>ASIENTO COMPENSACIÓN</th>\n",
       "      <th>AC CREADO POR</th>\n",
       "      <th>TRANSPORTADORA_SAP</th>\n",
       "      <th>TP.ASIENTO CONTABLE</th>\n",
       "      <th>INDICADOR SAP</th>\n",
       "      <th>IMPORTE (MON.SOC.)</th>\n",
       "      <th>TOTAL_COSTO</th>\n",
       "      <th>mes_f4</th>\n",
       "      <th>mes_sap</th>\n",
       "      <th>F11_FECHA_CREACION</th>\n",
       "      <th>F11_PROPIETARIO</th>\n",
       "      <th>F11_ESTADO</th>\n",
       "      <th>F11_SERVICIO</th>\n",
       "      <th>F11_GRUPO</th>\n",
       "      <th>F11_TOTAL_COSTO</th>\n",
       "    </tr>\n",
       "  </thead>\n",
       "  <tbody>\n",
       "    <tr>\n",
       "      <th>4561</th>\n",
       "      <td>9903 - CD FALABELLA</td>\n",
       "      <td>2022-11-01 10:19:16</td>\n",
       "      <td>46921833</td>\n",
       "      <td>NaN</td>\n",
       "      <td>Tcc</td>\n",
       "      <td>F4 DE MERMA</td>\n",
       "      <td>F4 DE MERMA</td>\n",
       "      <td>F4 DE MERMA</td>\n",
       "      <td>NaT</td>\n",
       "      <td>NaN</td>\n",
       "      <td>NaN</td>\n",
       "      <td>NaN</td>\n",
       "      <td>NaN</td>\n",
       "      <td>No encontrado en SAP</td>\n",
       "      <td>0</td>\n",
       "      <td>139900</td>\n",
       "      <td>Nov</td>\n",
       "      <td>NaN</td>\n",
       "      <td>NaT</td>\n",
       "      <td>NaN</td>\n",
       "      <td>NaN</td>\n",
       "      <td>NaN</td>\n",
       "      <td>NaN</td>\n",
       "      <td>NaN</td>\n",
       "    </tr>\n",
       "  </tbody>\n",
       "</table>\n",
       "</div>"
      ],
      "text/plain": [
       "                    LOCAL       FECHA_RESERVA CTECH_KEY NFOLIO  \\\n",
       "4561  9903 - CD FALABELLA 2022-11-01 10:19:16  46921833    NaN   \n",
       "\n",
       "     TRANSPORTADORA_F4 DOC_CONTABLE      REF_SAP ENVIADO_CONTABILIDAD  \\\n",
       "4561               Tcc  F4 DE MERMA  F4 DE MERMA          F4 DE MERMA   \n",
       "\n",
       "     FECHA REGISTR.DIARIO ASIENTO COMPENSACIÓN AC CREADO POR  \\\n",
       "4561                  NaT                  NaN           NaN   \n",
       "\n",
       "     TRANSPORTADORA_SAP TP.ASIENTO CONTABLE         INDICADOR SAP  \\\n",
       "4561                NaN                 NaN  No encontrado en SAP   \n",
       "\n",
       "      IMPORTE (MON.SOC.)  TOTAL_COSTO mes_f4 mes_sap F11_FECHA_CREACION  \\\n",
       "4561                   0       139900    Nov     NaN                NaT   \n",
       "\n",
       "     F11_PROPIETARIO F11_ESTADO F11_SERVICIO F11_GRUPO  F11_TOTAL_COSTO  \n",
       "4561             NaN        NaN          NaN       NaN              NaN  "
      ]
     },
     "execution_count": 103,
     "metadata": {},
     "output_type": "execute_result"
    }
   ],
   "source": [
    "completo.loc[completo['ENVIADO_CONTABILIDAD']=='F4 DE MERMA']"
   ]
  },
  {
   "cell_type": "code",
   "execution_count": 104,
   "id": "d94b7c16",
   "metadata": {},
   "outputs": [],
   "source": [
    "dc_var = 'DOC_CONTABLE'\n",
    "sap_var = 'INDICADOR SAP'\n",
    "f11_fcreacion = 'F11_FECHA_CREACION'\n",
    "transportes_status = 'ENVIADO_CONTABILIDAD'\n",
    "freserva_f4 = 'FECHA_RESERVA'\n",
    "fregistro_sap = 'FECHA REGISTR.DIARIO'\n",
    "tc = 'TOTAL_COSTO'\n",
    "completo.loc[completo[dc_var]=='NOTA CREDITO', dc_var] = 'NC'\n",
    "completo.loc[completo[dc_var]=='RECIBO DE EXONERACIÓN', dc_var] = 'RECIBO DE EXONERACION'\n",
    "completo.loc[completo[dc_var]=='REXO', dc_var] = 'RECIBO DE EXONERACION'\n",
    "\n",
    "completo.loc[(completo[dc_var]=='FELE') & (completo[sap_var]=='Encontrado en SAP'), 'comentario gco'] = 'FELE encontrada en SAP'\n",
    "completo.loc[(completo[dc_var]=='FELE') & (completo[sap_var]=='No encontrado en SAP'), 'comentario gco'] = 'FELE no encontrada en SAP'\n",
    "\n",
    "completo.loc[(completo[dc_var]=='RECIBO DE EXONERACION') & (completo[sap_var]=='Encontrado en SAP'), 'comentario gco'] = 'REXO encontrado en SAP'\n",
    "completo.loc[(completo[dc_var]=='RECIBO DE EXONERACION') & (completo[sap_var]=='No encontrado en SAP'), 'comentario gco'] = 'REXO no encontrado en SAP'\n",
    "\n",
    "completo.loc[(completo[dc_var]=='NC') & (completo[sap_var]=='Encontrado en SAP'), 'comentario gco'] = 'NC encontrada en SAP'\n",
    "completo.loc[(completo[dc_var]=='NC') & (completo[sap_var]=='No encontrado en SAP'), 'comentario gco'] = 'NC no encontrada en SAP'\n",
    "\n",
    "completo.loc[(completo[dc_var]=='CXC') & (completo[sap_var]=='Encontrado en SAP'), 'comentario gco'] = 'CXC encontrado en SAP'\n",
    "completo.loc[(completo[dc_var]=='CXC') & (completo[sap_var]=='No encontrado en SAP'), 'comentario gco'] = 'CXC no encontrado en SAP'\n",
    "\n",
    "completo.loc[completo[f11_fcreacion].isna() & completo[transportes_status].isna() & (completo[freserva_f4]<=pd.to_datetime(fecha_corte, format='%Y-%m-%d')), 'comentario gco']='No presentes en base de CD'\n",
    "completo.loc[completo[f11_fcreacion].isna() & completo[transportes_status].isna() & (completo[freserva_f4]>pd.to_datetime(fecha_corte, format='%Y-%m-%d')), 'comentario gco']='F4 realizados después de fecha de corte'\n",
    "\n",
    "\n",
    "# Verificar posible falsa alarma porque base de angel solo 1 año dinamico \n",
    "#cond_1 = completo['f11_fecha_creacion'].isna() & ~completo['comentario gco'].isin(['F4 realizados después de fecha de corte','No presentes en base de CD'])\n",
    "#completo.loc[cond_1, 'comentario gco'] = completo.loc[cond_1, 'comentario gco'] + ' + F11 presenta novedad'\n",
    "\n",
    "cond_2 = (completo[freserva_f4]<=pd.to_datetime('2022-03-31', format='%Y-%m-%d')) & ((completo[sap_var]=='No encontrado en SAP'))\n",
    "completo.loc[cond_2, 'comentario gco'] = completo.loc[cond_2, 'comentario gco'] + ' + F4 con fecha reserva mayor a 60 días'\n",
    "\n",
    "cond_3= (completo[fregistro_sap]) < (completo[freserva_f4]-timedelta(days=30))\n",
    "completo.loc[cond_3, 'comentario gco'] =  completo.loc[cond_3, 'comentario gco'] + ' + Registro SAP anterior a F4'\n",
    "completo.loc[cond_3, 'sap_ant_f4'] = 'y'\n",
    "\n",
    "completo.loc[(completo[transportes_status]=='PENDIENTE'), 'comentario gco'] = 'Docuemento contable pendiente'"
   ]
  },
  {
   "cell_type": "code",
   "execution_count": 105,
   "id": "cd8f768c",
   "metadata": {},
   "outputs": [
    {
     "data": {
      "text/plain": [
       "4561    NaN\n",
       "Name: comentario gco, dtype: object"
      ]
     },
     "execution_count": 105,
     "metadata": {},
     "output_type": "execute_result"
    }
   ],
   "source": [
    "completo.loc[(completo[transportes_status]=='F4 DE MERMA'), 'comentario gco']"
   ]
  },
  {
   "cell_type": "code",
   "execution_count": 106,
   "id": "fc021c17",
   "metadata": {},
   "outputs": [
    {
     "data": {
      "text/plain": [
       "comentario gco\n",
       "FELE encontrada en SAP                                              1215621235\n",
       "CXC encontrado en SAP                                                723877399\n",
       "NC encontrada en SAP                                                 410320086\n",
       "FELE no encontrada en SAP                                            350694159\n",
       "REXO encontrado en SAP                                               262286901\n",
       "NC no encontrada en SAP                                              113244295\n",
       "REXO no encontrado en SAP                                             77387072\n",
       "CXC no encontrado en SAP                                              64902702\n",
       "NC encontrada en SAP + Registro SAP anterior a F4                     37198579\n",
       "FELE no encontrada en SAP + F4 con fecha reserva mayor a 60 días      17157265\n",
       "CXC encontrado en SAP + Registro SAP anterior a F4                    14809983\n",
       "NC no encontrada en SAP + F4 con fecha reserva mayor a 60 días         5736084\n",
       "Name: TOTAL_COSTO, dtype: int64"
      ]
     },
     "execution_count": 106,
     "metadata": {},
     "output_type": "execute_result"
    }
   ],
   "source": [
    "completo.groupby('comentario gco')[tc].sum().sort_values(ascending=False)"
   ]
  },
  {
   "cell_type": "code",
   "execution_count": 107,
   "id": "cfd9e4e4",
   "metadata": {},
   "outputs": [
    {
     "data": {
      "text/plain": [
       "array(['F4 DE MERMA', nan], dtype=object)"
      ]
     },
     "execution_count": 107,
     "metadata": {},
     "output_type": "execute_result"
    }
   ],
   "source": [
    "completo.loc[completo['comentario gco'].isna()][transportes_status].unique()"
   ]
  },
  {
   "cell_type": "code",
   "execution_count": 108,
   "id": "833d80ae",
   "metadata": {},
   "outputs": [],
   "source": [
    "completo.to_excel(f'{dt_string}_recobro.xlsx', sheet_name='DB', index=False)"
   ]
  },
  {
   "cell_type": "code",
   "execution_count": 109,
   "id": "452194bb",
   "metadata": {},
   "outputs": [
    {
     "data": {
      "text/plain": [
       "Index(['LOCAL', 'FECHA_RESERVA', 'CTECH_KEY', 'NFOLIO', 'TRANSPORTADORA_F4',\n",
       "       'DOC_CONTABLE', 'REF_SAP', 'ENVIADO_CONTABILIDAD',\n",
       "       'FECHA REGISTR.DIARIO', 'ASIENTO COMPENSACIÓN', 'AC CREADO POR',\n",
       "       'TRANSPORTADORA_SAP', 'TP.ASIENTO CONTABLE', 'INDICADOR SAP',\n",
       "       'IMPORTE (MON.SOC.)', 'TOTAL_COSTO', 'mes_f4', 'mes_sap',\n",
       "       'F11_FECHA_CREACION', 'F11_PROPIETARIO', 'F11_ESTADO', 'F11_SERVICIO',\n",
       "       'F11_GRUPO', 'F11_TOTAL_COSTO', 'comentario gco', 'sap_ant_f4'],\n",
       "      dtype='object')"
      ]
     },
     "execution_count": 109,
     "metadata": {},
     "output_type": "execute_result"
    }
   ],
   "source": [
    "completo.columns"
   ]
  },
  {
   "cell_type": "markdown",
   "id": "01b6ae4e",
   "metadata": {},
   "source": [
    "## grafiacs"
   ]
  },
  {
   "cell_type": "markdown",
   "id": "25c97250",
   "metadata": {},
   "source": [
    "aux = completo.groupby(['REF_SAP','importe (mon.soc.)','mes_sap', 'mes_f4']).agg({'tp.asiento contable':'count', 'total_costo':'sum'}).reset_index()\n",
    "aux_2 = completo.groupby(['ref_sap','importe (mon.soc.)','mes_sap']).agg({'tp.asiento contable':'count', 'total_costo':'sum'}).reset_index()"
   ]
  },
  {
   "cell_type": "markdown",
   "id": "217d7572",
   "metadata": {
    "scrolled": true
   },
   "source": [
    "aux_2.groupby(['mes_sap']).agg({'importe (mon.soc.)':'sum'}).reset_index()"
   ]
  },
  {
   "cell_type": "code",
   "execution_count": 110,
   "id": "b5bd1c18",
   "metadata": {},
   "outputs": [],
   "source": [
    "comentarios_ok = ['FELE encontrada en SAP', 'NC encontrada en SAP', 'REXO encontrado en SAP', 'CXC encontrado en SAP', 'NC encontrada en SAP + Registro SAP anterior a F4']\n",
    "completo.loc[~completo['comentario gco'].isin(comentarios_ok), 'mes_sap']= 'Pendiente recobro'"
   ]
  },
  {
   "cell_type": "code",
   "execution_count": 111,
   "id": "2c590c79",
   "metadata": {},
   "outputs": [],
   "source": [
    "def set_columns_sum(base, var, column):    \n",
    "    lista = base.loc[base[var].notna()][var].unique()\n",
    "    gb_var = base.groupby(var)[column].sum().reset_index()\n",
    "    gb_var.set_index(var, inplace=True)\n",
    "    for item in lista:\n",
    "        base.loc[base[var]==item, var] = f'{item} ${round(gb_var.loc[item, column]/1e6):,.0f}M'\n",
    "    return base "
   ]
  },
  {
   "cell_type": "code",
   "execution_count": 112,
   "id": "2602a47f",
   "metadata": {},
   "outputs": [],
   "source": [
    "mes_x_mes = completo.groupby(['mes_sap', 'mes_f4']).agg({'TP.ASIENTO CONTABLE':'count', 'TOTAL_COSTO':'sum'}).reset_index()\n",
    "mes_x_mes = set_columns_sum(mes_x_mes, 'mes_f4','TOTAL_COSTO')"
   ]
  },
  {
   "cell_type": "code",
   "execution_count": 113,
   "id": "e7a6b903",
   "metadata": {},
   "outputs": [],
   "source": [
    "dif = completo.groupby(['REF_SAP','IMPORTE (MON.SOC.)']).agg({'TP.ASIENTO CONTABLE':'count', 'TOTAL_COSTO':'sum'}).reset_index()\n",
    "dif['saldo'] = dif['IMPORTE (MON.SOC.)'] - dif['TOTAL_COSTO'] "
   ]
  },
  {
   "cell_type": "code",
   "execution_count": 123,
   "id": "7a25a8ab",
   "metadata": {},
   "outputs": [],
   "source": [
    "table = pd.pivot_table(mes_x_mes, values='TOTAL_COSTO', index=['mes_f4'],\n",
    "                    columns=['mes_sap'], aggfunc=np.sum)#, fill_value= 0 ,margins = True, margins_name = 'Total' )"
   ]
  },
  {
   "cell_type": "code",
   "execution_count": 124,
   "id": "1a8e708f",
   "metadata": {},
   "outputs": [
    {
     "data": {
      "text/html": [
       "<div>\n",
       "<style scoped>\n",
       "    .dataframe tbody tr th:only-of-type {\n",
       "        vertical-align: middle;\n",
       "    }\n",
       "\n",
       "    .dataframe tbody tr th {\n",
       "        vertical-align: top;\n",
       "    }\n",
       "\n",
       "    .dataframe thead th {\n",
       "        text-align: right;\n",
       "    }\n",
       "</style>\n",
       "<table border=\"1\" class=\"dataframe\">\n",
       "  <thead>\n",
       "    <tr style=\"text-align: right;\">\n",
       "      <th>mes_sap</th>\n",
       "      <th>Apr-22</th>\n",
       "      <th>Aug-22</th>\n",
       "      <th>Dec-21</th>\n",
       "      <th>Feb-22</th>\n",
       "      <th>Jan-22</th>\n",
       "      <th>Jul-22</th>\n",
       "      <th>Jun-22</th>\n",
       "      <th>Mar-22</th>\n",
       "      <th>May-22</th>\n",
       "      <th>Nov-21</th>\n",
       "      <th>Oct-21</th>\n",
       "      <th>Oct-22</th>\n",
       "      <th>Pendiente recobro</th>\n",
       "      <th>Sep-21</th>\n",
       "      <th>Sep-22</th>\n",
       "    </tr>\n",
       "    <tr>\n",
       "      <th>mes_f4</th>\n",
       "      <th></th>\n",
       "      <th></th>\n",
       "      <th></th>\n",
       "      <th></th>\n",
       "      <th></th>\n",
       "      <th></th>\n",
       "      <th></th>\n",
       "      <th></th>\n",
       "      <th></th>\n",
       "      <th></th>\n",
       "      <th></th>\n",
       "      <th></th>\n",
       "      <th></th>\n",
       "      <th></th>\n",
       "      <th></th>\n",
       "    </tr>\n",
       "  </thead>\n",
       "  <tbody>\n",
       "    <tr>\n",
       "      <th>Apr $405M</th>\n",
       "      <td>$ 124M</td>\n",
       "      <td>$ nanM</td>\n",
       "      <td>$ nanM</td>\n",
       "      <td>$ nanM</td>\n",
       "      <td>$ nanM</td>\n",
       "      <td>$ nanM</td>\n",
       "      <td>$ nanM</td>\n",
       "      <td>$ 1M</td>\n",
       "      <td>$ 273M</td>\n",
       "      <td>$ nanM</td>\n",
       "      <td>$ nanM</td>\n",
       "      <td>$ nanM</td>\n",
       "      <td>$ 7M</td>\n",
       "      <td>$ nanM</td>\n",
       "      <td>$ nanM</td>\n",
       "    </tr>\n",
       "    <tr>\n",
       "      <th>Aug $584M</th>\n",
       "      <td>$ nanM</td>\n",
       "      <td>$ 444M</td>\n",
       "      <td>$ 1M</td>\n",
       "      <td>$ nanM</td>\n",
       "      <td>$ nanM</td>\n",
       "      <td>$ 0M</td>\n",
       "      <td>$ nanM</td>\n",
       "      <td>$ nanM</td>\n",
       "      <td>$ nanM</td>\n",
       "      <td>$ nanM</td>\n",
       "      <td>$ nanM</td>\n",
       "      <td>$ nanM</td>\n",
       "      <td>$ 97M</td>\n",
       "      <td>$ 0M</td>\n",
       "      <td>$ 41M</td>\n",
       "    </tr>\n",
       "    <tr>\n",
       "      <th>Feb $579M</th>\n",
       "      <td>$ 160M</td>\n",
       "      <td>$ nanM</td>\n",
       "      <td>$ 5M</td>\n",
       "      <td>$ 26M</td>\n",
       "      <td>$ 0M</td>\n",
       "      <td>$ nanM</td>\n",
       "      <td>$ 21M</td>\n",
       "      <td>$ 315M</td>\n",
       "      <td>$ 40M</td>\n",
       "      <td>$ nanM</td>\n",
       "      <td>$ nanM</td>\n",
       "      <td>$ nanM</td>\n",
       "      <td>$ 12M</td>\n",
       "      <td>$ nanM</td>\n",
       "      <td>$ nanM</td>\n",
       "    </tr>\n",
       "    <tr>\n",
       "      <th>Jan $31M</th>\n",
       "      <td>$ 5M</td>\n",
       "      <td>$ 0M</td>\n",
       "      <td>$ 1M</td>\n",
       "      <td>$ nanM</td>\n",
       "      <td>$ 10M</td>\n",
       "      <td>$ nanM</td>\n",
       "      <td>$ nanM</td>\n",
       "      <td>$ 8M</td>\n",
       "      <td>$ nanM</td>\n",
       "      <td>$ nanM</td>\n",
       "      <td>$ nanM</td>\n",
       "      <td>$ nanM</td>\n",
       "      <td>$ 6M</td>\n",
       "      <td>$ nanM</td>\n",
       "      <td>$ nanM</td>\n",
       "    </tr>\n",
       "    <tr>\n",
       "      <th>Jul $189M</th>\n",
       "      <td>$ 0M</td>\n",
       "      <td>$ 13M</td>\n",
       "      <td>$ 0M</td>\n",
       "      <td>$ 0M</td>\n",
       "      <td>$ nanM</td>\n",
       "      <td>$ 134M</td>\n",
       "      <td>$ 5M</td>\n",
       "      <td>$ nanM</td>\n",
       "      <td>$ 0M</td>\n",
       "      <td>$ nanM</td>\n",
       "      <td>$ nanM</td>\n",
       "      <td>$ nanM</td>\n",
       "      <td>$ 37M</td>\n",
       "      <td>$ 0M</td>\n",
       "      <td>$ nanM</td>\n",
       "    </tr>\n",
       "    <tr>\n",
       "      <th>Jun $233M</th>\n",
       "      <td>$ nanM</td>\n",
       "      <td>$ nanM</td>\n",
       "      <td>$ nanM</td>\n",
       "      <td>$ nanM</td>\n",
       "      <td>$ nanM</td>\n",
       "      <td>$ nanM</td>\n",
       "      <td>$ 233M</td>\n",
       "      <td>$ 0M</td>\n",
       "      <td>$ 0M</td>\n",
       "      <td>$ nanM</td>\n",
       "      <td>$ nanM</td>\n",
       "      <td>$ nanM</td>\n",
       "      <td>$ nanM</td>\n",
       "      <td>$ nanM</td>\n",
       "      <td>$ nanM</td>\n",
       "    </tr>\n",
       "    <tr>\n",
       "      <th>Mar $216M</th>\n",
       "      <td>$ 15M</td>\n",
       "      <td>$ 1M</td>\n",
       "      <td>$ 10M</td>\n",
       "      <td>$ 15M</td>\n",
       "      <td>$ 1M</td>\n",
       "      <td>$ nanM</td>\n",
       "      <td>$ 57M</td>\n",
       "      <td>$ 107M</td>\n",
       "      <td>$ 5M</td>\n",
       "      <td>$ 0M</td>\n",
       "      <td>$ 0M</td>\n",
       "      <td>$ nanM</td>\n",
       "      <td>$ 4M</td>\n",
       "      <td>$ nanM</td>\n",
       "      <td>$ nanM</td>\n",
       "    </tr>\n",
       "    <tr>\n",
       "      <th>May $294M</th>\n",
       "      <td>$ 5M</td>\n",
       "      <td>$ nanM</td>\n",
       "      <td>$ nanM</td>\n",
       "      <td>$ nanM</td>\n",
       "      <td>$ nanM</td>\n",
       "      <td>$ 45M</td>\n",
       "      <td>$ 87M</td>\n",
       "      <td>$ nanM</td>\n",
       "      <td>$ 147M</td>\n",
       "      <td>$ 0M</td>\n",
       "      <td>$ 2M</td>\n",
       "      <td>$ nanM</td>\n",
       "      <td>$ 3M</td>\n",
       "      <td>$ 5M</td>\n",
       "      <td>$ nanM</td>\n",
       "    </tr>\n",
       "    <tr>\n",
       "      <th>Nov $377M</th>\n",
       "      <td>$ nanM</td>\n",
       "      <td>$ nanM</td>\n",
       "      <td>$ nanM</td>\n",
       "      <td>$ nanM</td>\n",
       "      <td>$ nanM</td>\n",
       "      <td>$ nanM</td>\n",
       "      <td>$ nanM</td>\n",
       "      <td>$ nanM</td>\n",
       "      <td>$ nanM</td>\n",
       "      <td>$ nanM</td>\n",
       "      <td>$ nanM</td>\n",
       "      <td>$ nanM</td>\n",
       "      <td>$ 377M</td>\n",
       "      <td>$ nanM</td>\n",
       "      <td>$ nanM</td>\n",
       "    </tr>\n",
       "    <tr>\n",
       "      <th>Oct $214M</th>\n",
       "      <td>$ nanM</td>\n",
       "      <td>$ nanM</td>\n",
       "      <td>$ nanM</td>\n",
       "      <td>$ nanM</td>\n",
       "      <td>$ nanM</td>\n",
       "      <td>$ nanM</td>\n",
       "      <td>$ nanM</td>\n",
       "      <td>$ nanM</td>\n",
       "      <td>$ nanM</td>\n",
       "      <td>$ nanM</td>\n",
       "      <td>$ nanM</td>\n",
       "      <td>$ 114M</td>\n",
       "      <td>$ 86M</td>\n",
       "      <td>$ nanM</td>\n",
       "      <td>$ 13M</td>\n",
       "    </tr>\n",
       "    <tr>\n",
       "      <th>Sep $172M</th>\n",
       "      <td>$ nanM</td>\n",
       "      <td>$ 9M</td>\n",
       "      <td>$ nanM</td>\n",
       "      <td>$ nanM</td>\n",
       "      <td>$ nanM</td>\n",
       "      <td>$ nanM</td>\n",
       "      <td>$ nanM</td>\n",
       "      <td>$ nanM</td>\n",
       "      <td>$ nanM</td>\n",
       "      <td>$ nanM</td>\n",
       "      <td>$ nanM</td>\n",
       "      <td>$ nanM</td>\n",
       "      <td>$ 14M</td>\n",
       "      <td>$ nanM</td>\n",
       "      <td>$ 149M</td>\n",
       "    </tr>\n",
       "  </tbody>\n",
       "</table>\n",
       "</div>"
      ],
      "text/plain": [
       "mes_sap    Apr-22  Aug-22  Dec-21  Feb-22  Jan-22  Jul-22  Jun-22  Mar-22  \\\n",
       "mes_f4                                                                      \n",
       "Apr $405M  $ 124M  $ nanM  $ nanM  $ nanM  $ nanM  $ nanM  $ nanM    $ 1M   \n",
       "Aug $584M  $ nanM  $ 444M    $ 1M  $ nanM  $ nanM    $ 0M  $ nanM  $ nanM   \n",
       "Feb $579M  $ 160M  $ nanM    $ 5M   $ 26M    $ 0M  $ nanM   $ 21M  $ 315M   \n",
       "Jan $31M     $ 5M    $ 0M    $ 1M  $ nanM   $ 10M  $ nanM  $ nanM    $ 8M   \n",
       "Jul $189M    $ 0M   $ 13M    $ 0M    $ 0M  $ nanM  $ 134M    $ 5M  $ nanM   \n",
       "Jun $233M  $ nanM  $ nanM  $ nanM  $ nanM  $ nanM  $ nanM  $ 233M    $ 0M   \n",
       "Mar $216M   $ 15M    $ 1M   $ 10M   $ 15M    $ 1M  $ nanM   $ 57M  $ 107M   \n",
       "May $294M    $ 5M  $ nanM  $ nanM  $ nanM  $ nanM   $ 45M   $ 87M  $ nanM   \n",
       "Nov $377M  $ nanM  $ nanM  $ nanM  $ nanM  $ nanM  $ nanM  $ nanM  $ nanM   \n",
       "Oct $214M  $ nanM  $ nanM  $ nanM  $ nanM  $ nanM  $ nanM  $ nanM  $ nanM   \n",
       "Sep $172M  $ nanM    $ 9M  $ nanM  $ nanM  $ nanM  $ nanM  $ nanM  $ nanM   \n",
       "\n",
       "mes_sap    May-22  Nov-21  Oct-21  Oct-22 Pendiente recobro  Sep-21  Sep-22  \n",
       "mes_f4                                                                       \n",
       "Apr $405M  $ 273M  $ nanM  $ nanM  $ nanM              $ 7M  $ nanM  $ nanM  \n",
       "Aug $584M  $ nanM  $ nanM  $ nanM  $ nanM             $ 97M    $ 0M   $ 41M  \n",
       "Feb $579M   $ 40M  $ nanM  $ nanM  $ nanM             $ 12M  $ nanM  $ nanM  \n",
       "Jan $31M   $ nanM  $ nanM  $ nanM  $ nanM              $ 6M  $ nanM  $ nanM  \n",
       "Jul $189M    $ 0M  $ nanM  $ nanM  $ nanM             $ 37M    $ 0M  $ nanM  \n",
       "Jun $233M    $ 0M  $ nanM  $ nanM  $ nanM            $ nanM  $ nanM  $ nanM  \n",
       "Mar $216M    $ 5M    $ 0M    $ 0M  $ nanM              $ 4M  $ nanM  $ nanM  \n",
       "May $294M  $ 147M    $ 0M    $ 2M  $ nanM              $ 3M    $ 5M  $ nanM  \n",
       "Nov $377M  $ nanM  $ nanM  $ nanM  $ nanM            $ 377M  $ nanM  $ nanM  \n",
       "Oct $214M  $ nanM  $ nanM  $ nanM  $ 114M             $ 86M  $ nanM   $ 13M  \n",
       "Sep $172M  $ nanM  $ nanM  $ nanM  $ nanM             $ 14M  $ nanM  $ 149M  "
      ]
     },
     "execution_count": 124,
     "metadata": {},
     "output_type": "execute_result"
    }
   ],
   "source": [
    "table.applymap(lambda x: f\"$ {x/1e6:,.0f}M\" if x != np.nan  else 0)"
   ]
  },
  {
   "cell_type": "code",
   "execution_count": 125,
   "id": "6f53be7f",
   "metadata": {
    "scrolled": false
   },
   "outputs": [
    {
     "data": {
      "text/html": [
       "<div>\n",
       "<style scoped>\n",
       "    .dataframe tbody tr th:only-of-type {\n",
       "        vertical-align: middle;\n",
       "    }\n",
       "\n",
       "    .dataframe tbody tr th {\n",
       "        vertical-align: top;\n",
       "    }\n",
       "\n",
       "    .dataframe thead th {\n",
       "        text-align: right;\n",
       "    }\n",
       "</style>\n",
       "<table border=\"1\" class=\"dataframe\">\n",
       "  <thead>\n",
       "    <tr style=\"text-align: right;\">\n",
       "      <th>mes_sap</th>\n",
       "      <th>Apr-22</th>\n",
       "      <th>Aug-22</th>\n",
       "      <th>Dec-21</th>\n",
       "      <th>Feb-22</th>\n",
       "      <th>Jan-22</th>\n",
       "      <th>Jul-22</th>\n",
       "      <th>Jun-22</th>\n",
       "      <th>Mar-22</th>\n",
       "      <th>May-22</th>\n",
       "      <th>Nov-21</th>\n",
       "      <th>Oct-21</th>\n",
       "      <th>Oct-22</th>\n",
       "      <th>Pendiente recobro</th>\n",
       "      <th>Sep-21</th>\n",
       "      <th>Sep-22</th>\n",
       "    </tr>\n",
       "    <tr>\n",
       "      <th>mes_f4</th>\n",
       "      <th></th>\n",
       "      <th></th>\n",
       "      <th></th>\n",
       "      <th></th>\n",
       "      <th></th>\n",
       "      <th></th>\n",
       "      <th></th>\n",
       "      <th></th>\n",
       "      <th></th>\n",
       "      <th></th>\n",
       "      <th></th>\n",
       "      <th></th>\n",
       "      <th></th>\n",
       "      <th></th>\n",
       "      <th></th>\n",
       "    </tr>\n",
       "  </thead>\n",
       "  <tbody>\n",
       "    <tr>\n",
       "      <th>Apr $405M</th>\n",
       "      <td>124275092.0</td>\n",
       "      <td>NaN</td>\n",
       "      <td>NaN</td>\n",
       "      <td>NaN</td>\n",
       "      <td>NaN</td>\n",
       "      <td>NaN</td>\n",
       "      <td>NaN</td>\n",
       "      <td>504218.0</td>\n",
       "      <td>272793971.0</td>\n",
       "      <td>NaN</td>\n",
       "      <td>NaN</td>\n",
       "      <td>NaN</td>\n",
       "      <td>6935827.0</td>\n",
       "      <td>NaN</td>\n",
       "      <td>NaN</td>\n",
       "    </tr>\n",
       "    <tr>\n",
       "      <th>Aug $584M</th>\n",
       "      <td>NaN</td>\n",
       "      <td>444031674.0</td>\n",
       "      <td>892552.0</td>\n",
       "      <td>NaN</td>\n",
       "      <td>NaN</td>\n",
       "      <td>360236.0</td>\n",
       "      <td>NaN</td>\n",
       "      <td>NaN</td>\n",
       "      <td>NaN</td>\n",
       "      <td>NaN</td>\n",
       "      <td>NaN</td>\n",
       "      <td>NaN</td>\n",
       "      <td>97157586.0</td>\n",
       "      <td>58760.0</td>\n",
       "      <td>41315893.0</td>\n",
       "    </tr>\n",
       "    <tr>\n",
       "      <th>Feb $579M</th>\n",
       "      <td>160455093.0</td>\n",
       "      <td>NaN</td>\n",
       "      <td>4931863.0</td>\n",
       "      <td>25994790.0</td>\n",
       "      <td>129900.0</td>\n",
       "      <td>NaN</td>\n",
       "      <td>20648883.0</td>\n",
       "      <td>314610377.0</td>\n",
       "      <td>40115028.0</td>\n",
       "      <td>NaN</td>\n",
       "      <td>NaN</td>\n",
       "      <td>NaN</td>\n",
       "      <td>12405208.0</td>\n",
       "      <td>NaN</td>\n",
       "      <td>NaN</td>\n",
       "    </tr>\n",
       "    <tr>\n",
       "      <th>Jan $31M</th>\n",
       "      <td>5222061.0</td>\n",
       "      <td>372295.0</td>\n",
       "      <td>858091.0</td>\n",
       "      <td>NaN</td>\n",
       "      <td>10483741.0</td>\n",
       "      <td>NaN</td>\n",
       "      <td>NaN</td>\n",
       "      <td>8445635.0</td>\n",
       "      <td>NaN</td>\n",
       "      <td>NaN</td>\n",
       "      <td>NaN</td>\n",
       "      <td>NaN</td>\n",
       "      <td>6017672.0</td>\n",
       "      <td>NaN</td>\n",
       "      <td>NaN</td>\n",
       "    </tr>\n",
       "    <tr>\n",
       "      <th>Jul $189M</th>\n",
       "      <td>108224.0</td>\n",
       "      <td>12825762.0</td>\n",
       "      <td>230000.0</td>\n",
       "      <td>135259.0</td>\n",
       "      <td>NaN</td>\n",
       "      <td>133821324.0</td>\n",
       "      <td>4799698.0</td>\n",
       "      <td>NaN</td>\n",
       "      <td>92834.0</td>\n",
       "      <td>NaN</td>\n",
       "      <td>NaN</td>\n",
       "      <td>NaN</td>\n",
       "      <td>37081414.0</td>\n",
       "      <td>55550.0</td>\n",
       "      <td>NaN</td>\n",
       "    </tr>\n",
       "    <tr>\n",
       "      <th>Jun $233M</th>\n",
       "      <td>NaN</td>\n",
       "      <td>NaN</td>\n",
       "      <td>NaN</td>\n",
       "      <td>NaN</td>\n",
       "      <td>NaN</td>\n",
       "      <td>NaN</td>\n",
       "      <td>232690717.0</td>\n",
       "      <td>255800.0</td>\n",
       "      <td>232276.0</td>\n",
       "      <td>NaN</td>\n",
       "      <td>NaN</td>\n",
       "      <td>NaN</td>\n",
       "      <td>NaN</td>\n",
       "      <td>NaN</td>\n",
       "      <td>NaN</td>\n",
       "    </tr>\n",
       "    <tr>\n",
       "      <th>Mar $216M</th>\n",
       "      <td>15244995.0</td>\n",
       "      <td>1192236.0</td>\n",
       "      <td>10404544.0</td>\n",
       "      <td>14525348.0</td>\n",
       "      <td>759846.0</td>\n",
       "      <td>NaN</td>\n",
       "      <td>56781006.0</td>\n",
       "      <td>106768712.0</td>\n",
       "      <td>5435102.0</td>\n",
       "      <td>156597.0</td>\n",
       "      <td>6464.0</td>\n",
       "      <td>NaN</td>\n",
       "      <td>4470469.0</td>\n",
       "      <td>NaN</td>\n",
       "      <td>NaN</td>\n",
       "    </tr>\n",
       "    <tr>\n",
       "      <th>May $294M</th>\n",
       "      <td>4978945.0</td>\n",
       "      <td>NaN</td>\n",
       "      <td>NaN</td>\n",
       "      <td>NaN</td>\n",
       "      <td>NaN</td>\n",
       "      <td>45063918.0</td>\n",
       "      <td>86636438.0</td>\n",
       "      <td>NaN</td>\n",
       "      <td>146772288.0</td>\n",
       "      <td>216362.0</td>\n",
       "      <td>2249100.0</td>\n",
       "      <td>NaN</td>\n",
       "      <td>2848119.0</td>\n",
       "      <td>5063532.0</td>\n",
       "      <td>NaN</td>\n",
       "    </tr>\n",
       "    <tr>\n",
       "      <th>Nov $377M</th>\n",
       "      <td>NaN</td>\n",
       "      <td>NaN</td>\n",
       "      <td>NaN</td>\n",
       "      <td>NaN</td>\n",
       "      <td>NaN</td>\n",
       "      <td>NaN</td>\n",
       "      <td>NaN</td>\n",
       "      <td>NaN</td>\n",
       "      <td>NaN</td>\n",
       "      <td>NaN</td>\n",
       "      <td>NaN</td>\n",
       "      <td>NaN</td>\n",
       "      <td>376683343.0</td>\n",
       "      <td>NaN</td>\n",
       "      <td>NaN</td>\n",
       "    </tr>\n",
       "    <tr>\n",
       "      <th>Oct $214M</th>\n",
       "      <td>NaN</td>\n",
       "      <td>NaN</td>\n",
       "      <td>NaN</td>\n",
       "      <td>NaN</td>\n",
       "      <td>NaN</td>\n",
       "      <td>NaN</td>\n",
       "      <td>NaN</td>\n",
       "      <td>NaN</td>\n",
       "      <td>NaN</td>\n",
       "      <td>NaN</td>\n",
       "      <td>NaN</td>\n",
       "      <td>114476998.0</td>\n",
       "      <td>86342631.0</td>\n",
       "      <td>NaN</td>\n",
       "      <td>12930508.0</td>\n",
       "    </tr>\n",
       "    <tr>\n",
       "      <th>Sep $172M</th>\n",
       "      <td>NaN</td>\n",
       "      <td>8979921.0</td>\n",
       "      <td>NaN</td>\n",
       "      <td>NaN</td>\n",
       "      <td>NaN</td>\n",
       "      <td>NaN</td>\n",
       "      <td>NaN</td>\n",
       "      <td>NaN</td>\n",
       "      <td>NaN</td>\n",
       "      <td>NaN</td>\n",
       "      <td>NaN</td>\n",
       "      <td>NaN</td>\n",
       "      <td>14129191.0</td>\n",
       "      <td>NaN</td>\n",
       "      <td>148913743.0</td>\n",
       "    </tr>\n",
       "  </tbody>\n",
       "</table>\n",
       "</div>"
      ],
      "text/plain": [
       "mes_sap         Apr-22       Aug-22      Dec-21      Feb-22      Jan-22  \\\n",
       "mes_f4                                                                    \n",
       "Apr $405M  124275092.0          NaN         NaN         NaN         NaN   \n",
       "Aug $584M          NaN  444031674.0    892552.0         NaN         NaN   \n",
       "Feb $579M  160455093.0          NaN   4931863.0  25994790.0    129900.0   \n",
       "Jan $31M     5222061.0     372295.0    858091.0         NaN  10483741.0   \n",
       "Jul $189M     108224.0   12825762.0    230000.0    135259.0         NaN   \n",
       "Jun $233M          NaN          NaN         NaN         NaN         NaN   \n",
       "Mar $216M   15244995.0    1192236.0  10404544.0  14525348.0    759846.0   \n",
       "May $294M    4978945.0          NaN         NaN         NaN         NaN   \n",
       "Nov $377M          NaN          NaN         NaN         NaN         NaN   \n",
       "Oct $214M          NaN          NaN         NaN         NaN         NaN   \n",
       "Sep $172M          NaN    8979921.0         NaN         NaN         NaN   \n",
       "\n",
       "mes_sap         Jul-22       Jun-22       Mar-22       May-22    Nov-21  \\\n",
       "mes_f4                                                                    \n",
       "Apr $405M          NaN          NaN     504218.0  272793971.0       NaN   \n",
       "Aug $584M     360236.0          NaN          NaN          NaN       NaN   \n",
       "Feb $579M          NaN   20648883.0  314610377.0   40115028.0       NaN   \n",
       "Jan $31M           NaN          NaN    8445635.0          NaN       NaN   \n",
       "Jul $189M  133821324.0    4799698.0          NaN      92834.0       NaN   \n",
       "Jun $233M          NaN  232690717.0     255800.0     232276.0       NaN   \n",
       "Mar $216M          NaN   56781006.0  106768712.0    5435102.0  156597.0   \n",
       "May $294M   45063918.0   86636438.0          NaN  146772288.0  216362.0   \n",
       "Nov $377M          NaN          NaN          NaN          NaN       NaN   \n",
       "Oct $214M          NaN          NaN          NaN          NaN       NaN   \n",
       "Sep $172M          NaN          NaN          NaN          NaN       NaN   \n",
       "\n",
       "mes_sap       Oct-21       Oct-22  Pendiente recobro     Sep-21       Sep-22  \n",
       "mes_f4                                                                        \n",
       "Apr $405M        NaN          NaN          6935827.0        NaN          NaN  \n",
       "Aug $584M        NaN          NaN         97157586.0    58760.0   41315893.0  \n",
       "Feb $579M        NaN          NaN         12405208.0        NaN          NaN  \n",
       "Jan $31M         NaN          NaN          6017672.0        NaN          NaN  \n",
       "Jul $189M        NaN          NaN         37081414.0    55550.0          NaN  \n",
       "Jun $233M        NaN          NaN                NaN        NaN          NaN  \n",
       "Mar $216M     6464.0          NaN          4470469.0        NaN          NaN  \n",
       "May $294M  2249100.0          NaN          2848119.0  5063532.0          NaN  \n",
       "Nov $377M        NaN          NaN        376683343.0        NaN          NaN  \n",
       "Oct $214M        NaN  114476998.0         86342631.0        NaN   12930508.0  \n",
       "Sep $172M        NaN          NaN         14129191.0        NaN  148913743.0  "
      ]
     },
     "execution_count": 125,
     "metadata": {},
     "output_type": "execute_result"
    }
   ],
   "source": [
    "table"
   ]
  },
  {
   "cell_type": "code",
   "execution_count": 126,
   "id": "893700fc",
   "metadata": {},
   "outputs": [],
   "source": [
    "table = table.reindex(['Jan $31M','Feb $579M', 'Mar $216M', 'Apr $405M', 'May $294M', 'Jun $233M', 'Jul $189M', 'Aug $584M', 'Sep $172M','Oct $214M', 'Nov $377M', 'Total'], columns=['Sep-21','Oct-21', 'Nov-21','Dec-21', 'Jan-22', 'Feb-22', 'Mar-22', 'Apr-22', 'May-22','Jun-22', 'Jul-22' ,'Aug-22', 'Sep-22', 'Oct-22', 'Pendiente recobro', 'Total'])"
   ]
  },
  {
   "cell_type": "code",
   "execution_count": 127,
   "id": "c1944661",
   "metadata": {},
   "outputs": [
    {
     "data": {
      "text/html": [
       "<div>\n",
       "<style scoped>\n",
       "    .dataframe tbody tr th:only-of-type {\n",
       "        vertical-align: middle;\n",
       "    }\n",
       "\n",
       "    .dataframe tbody tr th {\n",
       "        vertical-align: top;\n",
       "    }\n",
       "\n",
       "    .dataframe thead th {\n",
       "        text-align: right;\n",
       "    }\n",
       "</style>\n",
       "<table border=\"1\" class=\"dataframe\">\n",
       "  <thead>\n",
       "    <tr style=\"text-align: right;\">\n",
       "      <th>mes_sap</th>\n",
       "      <th>Sep-21</th>\n",
       "      <th>Oct-21</th>\n",
       "      <th>Nov-21</th>\n",
       "      <th>Dec-21</th>\n",
       "      <th>Jan-22</th>\n",
       "      <th>Feb-22</th>\n",
       "      <th>Mar-22</th>\n",
       "      <th>Apr-22</th>\n",
       "      <th>May-22</th>\n",
       "      <th>Jun-22</th>\n",
       "      <th>Jul-22</th>\n",
       "      <th>Aug-22</th>\n",
       "      <th>Sep-22</th>\n",
       "      <th>Oct-22</th>\n",
       "      <th>Pendiente recobro</th>\n",
       "      <th>Total</th>\n",
       "    </tr>\n",
       "    <tr>\n",
       "      <th>mes_f4</th>\n",
       "      <th></th>\n",
       "      <th></th>\n",
       "      <th></th>\n",
       "      <th></th>\n",
       "      <th></th>\n",
       "      <th></th>\n",
       "      <th></th>\n",
       "      <th></th>\n",
       "      <th></th>\n",
       "      <th></th>\n",
       "      <th></th>\n",
       "      <th></th>\n",
       "      <th></th>\n",
       "      <th></th>\n",
       "      <th></th>\n",
       "      <th></th>\n",
       "    </tr>\n",
       "  </thead>\n",
       "  <tbody>\n",
       "    <tr>\n",
       "      <th>Jan $31M</th>\n",
       "      <td>$ nanM</td>\n",
       "      <td>$ nanM</td>\n",
       "      <td>$ nanM</td>\n",
       "      <td>$ 1M</td>\n",
       "      <td>$ 10M</td>\n",
       "      <td>$ nanM</td>\n",
       "      <td>$ 8M</td>\n",
       "      <td>$ 5M</td>\n",
       "      <td>$ nanM</td>\n",
       "      <td>$ nanM</td>\n",
       "      <td>$ nanM</td>\n",
       "      <td>$ 0M</td>\n",
       "      <td>$ nanM</td>\n",
       "      <td>$ nanM</td>\n",
       "      <td>$ 6M</td>\n",
       "      <td>$ nanM</td>\n",
       "    </tr>\n",
       "    <tr>\n",
       "      <th>Feb $579M</th>\n",
       "      <td>$ nanM</td>\n",
       "      <td>$ nanM</td>\n",
       "      <td>$ nanM</td>\n",
       "      <td>$ 5M</td>\n",
       "      <td>$ 0M</td>\n",
       "      <td>$ 26M</td>\n",
       "      <td>$ 315M</td>\n",
       "      <td>$ 160M</td>\n",
       "      <td>$ 40M</td>\n",
       "      <td>$ 21M</td>\n",
       "      <td>$ nanM</td>\n",
       "      <td>$ nanM</td>\n",
       "      <td>$ nanM</td>\n",
       "      <td>$ nanM</td>\n",
       "      <td>$ 12M</td>\n",
       "      <td>$ nanM</td>\n",
       "    </tr>\n",
       "    <tr>\n",
       "      <th>Mar $216M</th>\n",
       "      <td>$ nanM</td>\n",
       "      <td>$ 0M</td>\n",
       "      <td>$ 0M</td>\n",
       "      <td>$ 10M</td>\n",
       "      <td>$ 1M</td>\n",
       "      <td>$ 15M</td>\n",
       "      <td>$ 107M</td>\n",
       "      <td>$ 15M</td>\n",
       "      <td>$ 5M</td>\n",
       "      <td>$ 57M</td>\n",
       "      <td>$ nanM</td>\n",
       "      <td>$ 1M</td>\n",
       "      <td>$ nanM</td>\n",
       "      <td>$ nanM</td>\n",
       "      <td>$ 4M</td>\n",
       "      <td>$ nanM</td>\n",
       "    </tr>\n",
       "    <tr>\n",
       "      <th>Apr $405M</th>\n",
       "      <td>$ nanM</td>\n",
       "      <td>$ nanM</td>\n",
       "      <td>$ nanM</td>\n",
       "      <td>$ nanM</td>\n",
       "      <td>$ nanM</td>\n",
       "      <td>$ nanM</td>\n",
       "      <td>$ 1M</td>\n",
       "      <td>$ 124M</td>\n",
       "      <td>$ 273M</td>\n",
       "      <td>$ nanM</td>\n",
       "      <td>$ nanM</td>\n",
       "      <td>$ nanM</td>\n",
       "      <td>$ nanM</td>\n",
       "      <td>$ nanM</td>\n",
       "      <td>$ 7M</td>\n",
       "      <td>$ nanM</td>\n",
       "    </tr>\n",
       "    <tr>\n",
       "      <th>May $294M</th>\n",
       "      <td>$ 5M</td>\n",
       "      <td>$ 2M</td>\n",
       "      <td>$ 0M</td>\n",
       "      <td>$ nanM</td>\n",
       "      <td>$ nanM</td>\n",
       "      <td>$ nanM</td>\n",
       "      <td>$ nanM</td>\n",
       "      <td>$ 5M</td>\n",
       "      <td>$ 147M</td>\n",
       "      <td>$ 87M</td>\n",
       "      <td>$ 45M</td>\n",
       "      <td>$ nanM</td>\n",
       "      <td>$ nanM</td>\n",
       "      <td>$ nanM</td>\n",
       "      <td>$ 3M</td>\n",
       "      <td>$ nanM</td>\n",
       "    </tr>\n",
       "    <tr>\n",
       "      <th>Jun $233M</th>\n",
       "      <td>$ nanM</td>\n",
       "      <td>$ nanM</td>\n",
       "      <td>$ nanM</td>\n",
       "      <td>$ nanM</td>\n",
       "      <td>$ nanM</td>\n",
       "      <td>$ nanM</td>\n",
       "      <td>$ 0M</td>\n",
       "      <td>$ nanM</td>\n",
       "      <td>$ 0M</td>\n",
       "      <td>$ 233M</td>\n",
       "      <td>$ nanM</td>\n",
       "      <td>$ nanM</td>\n",
       "      <td>$ nanM</td>\n",
       "      <td>$ nanM</td>\n",
       "      <td>$ nanM</td>\n",
       "      <td>$ nanM</td>\n",
       "    </tr>\n",
       "    <tr>\n",
       "      <th>Jul $189M</th>\n",
       "      <td>$ 0M</td>\n",
       "      <td>$ nanM</td>\n",
       "      <td>$ nanM</td>\n",
       "      <td>$ 0M</td>\n",
       "      <td>$ nanM</td>\n",
       "      <td>$ 0M</td>\n",
       "      <td>$ nanM</td>\n",
       "      <td>$ 0M</td>\n",
       "      <td>$ 0M</td>\n",
       "      <td>$ 5M</td>\n",
       "      <td>$ 134M</td>\n",
       "      <td>$ 13M</td>\n",
       "      <td>$ nanM</td>\n",
       "      <td>$ nanM</td>\n",
       "      <td>$ 37M</td>\n",
       "      <td>$ nanM</td>\n",
       "    </tr>\n",
       "    <tr>\n",
       "      <th>Aug $584M</th>\n",
       "      <td>$ 0M</td>\n",
       "      <td>$ nanM</td>\n",
       "      <td>$ nanM</td>\n",
       "      <td>$ 1M</td>\n",
       "      <td>$ nanM</td>\n",
       "      <td>$ nanM</td>\n",
       "      <td>$ nanM</td>\n",
       "      <td>$ nanM</td>\n",
       "      <td>$ nanM</td>\n",
       "      <td>$ nanM</td>\n",
       "      <td>$ 0M</td>\n",
       "      <td>$ 444M</td>\n",
       "      <td>$ 41M</td>\n",
       "      <td>$ nanM</td>\n",
       "      <td>$ 97M</td>\n",
       "      <td>$ nanM</td>\n",
       "    </tr>\n",
       "    <tr>\n",
       "      <th>Sep $172M</th>\n",
       "      <td>$ nanM</td>\n",
       "      <td>$ nanM</td>\n",
       "      <td>$ nanM</td>\n",
       "      <td>$ nanM</td>\n",
       "      <td>$ nanM</td>\n",
       "      <td>$ nanM</td>\n",
       "      <td>$ nanM</td>\n",
       "      <td>$ nanM</td>\n",
       "      <td>$ nanM</td>\n",
       "      <td>$ nanM</td>\n",
       "      <td>$ nanM</td>\n",
       "      <td>$ 9M</td>\n",
       "      <td>$ 149M</td>\n",
       "      <td>$ nanM</td>\n",
       "      <td>$ 14M</td>\n",
       "      <td>$ nanM</td>\n",
       "    </tr>\n",
       "    <tr>\n",
       "      <th>Oct $214M</th>\n",
       "      <td>$ nanM</td>\n",
       "      <td>$ nanM</td>\n",
       "      <td>$ nanM</td>\n",
       "      <td>$ nanM</td>\n",
       "      <td>$ nanM</td>\n",
       "      <td>$ nanM</td>\n",
       "      <td>$ nanM</td>\n",
       "      <td>$ nanM</td>\n",
       "      <td>$ nanM</td>\n",
       "      <td>$ nanM</td>\n",
       "      <td>$ nanM</td>\n",
       "      <td>$ nanM</td>\n",
       "      <td>$ 13M</td>\n",
       "      <td>$ 114M</td>\n",
       "      <td>$ 86M</td>\n",
       "      <td>$ nanM</td>\n",
       "    </tr>\n",
       "    <tr>\n",
       "      <th>Nov $377M</th>\n",
       "      <td>$ nanM</td>\n",
       "      <td>$ nanM</td>\n",
       "      <td>$ nanM</td>\n",
       "      <td>$ nanM</td>\n",
       "      <td>$ nanM</td>\n",
       "      <td>$ nanM</td>\n",
       "      <td>$ nanM</td>\n",
       "      <td>$ nanM</td>\n",
       "      <td>$ nanM</td>\n",
       "      <td>$ nanM</td>\n",
       "      <td>$ nanM</td>\n",
       "      <td>$ nanM</td>\n",
       "      <td>$ nanM</td>\n",
       "      <td>$ nanM</td>\n",
       "      <td>$ 377M</td>\n",
       "      <td>$ nanM</td>\n",
       "    </tr>\n",
       "    <tr>\n",
       "      <th>Total</th>\n",
       "      <td>$ nanM</td>\n",
       "      <td>$ nanM</td>\n",
       "      <td>$ nanM</td>\n",
       "      <td>$ nanM</td>\n",
       "      <td>$ nanM</td>\n",
       "      <td>$ nanM</td>\n",
       "      <td>$ nanM</td>\n",
       "      <td>$ nanM</td>\n",
       "      <td>$ nanM</td>\n",
       "      <td>$ nanM</td>\n",
       "      <td>$ nanM</td>\n",
       "      <td>$ nanM</td>\n",
       "      <td>$ nanM</td>\n",
       "      <td>$ nanM</td>\n",
       "      <td>$ nanM</td>\n",
       "      <td>$ nanM</td>\n",
       "    </tr>\n",
       "  </tbody>\n",
       "</table>\n",
       "</div>"
      ],
      "text/plain": [
       "mes_sap    Sep-21  Oct-21  Nov-21  Dec-21  Jan-22  Feb-22  Mar-22  Apr-22  \\\n",
       "mes_f4                                                                      \n",
       "Jan $31M   $ nanM  $ nanM  $ nanM    $ 1M   $ 10M  $ nanM    $ 8M    $ 5M   \n",
       "Feb $579M  $ nanM  $ nanM  $ nanM    $ 5M    $ 0M   $ 26M  $ 315M  $ 160M   \n",
       "Mar $216M  $ nanM    $ 0M    $ 0M   $ 10M    $ 1M   $ 15M  $ 107M   $ 15M   \n",
       "Apr $405M  $ nanM  $ nanM  $ nanM  $ nanM  $ nanM  $ nanM    $ 1M  $ 124M   \n",
       "May $294M    $ 5M    $ 2M    $ 0M  $ nanM  $ nanM  $ nanM  $ nanM    $ 5M   \n",
       "Jun $233M  $ nanM  $ nanM  $ nanM  $ nanM  $ nanM  $ nanM    $ 0M  $ nanM   \n",
       "Jul $189M    $ 0M  $ nanM  $ nanM    $ 0M  $ nanM    $ 0M  $ nanM    $ 0M   \n",
       "Aug $584M    $ 0M  $ nanM  $ nanM    $ 1M  $ nanM  $ nanM  $ nanM  $ nanM   \n",
       "Sep $172M  $ nanM  $ nanM  $ nanM  $ nanM  $ nanM  $ nanM  $ nanM  $ nanM   \n",
       "Oct $214M  $ nanM  $ nanM  $ nanM  $ nanM  $ nanM  $ nanM  $ nanM  $ nanM   \n",
       "Nov $377M  $ nanM  $ nanM  $ nanM  $ nanM  $ nanM  $ nanM  $ nanM  $ nanM   \n",
       "Total      $ nanM  $ nanM  $ nanM  $ nanM  $ nanM  $ nanM  $ nanM  $ nanM   \n",
       "\n",
       "mes_sap    May-22  Jun-22  Jul-22  Aug-22  Sep-22  Oct-22 Pendiente recobro  \\\n",
       "mes_f4                                                                        \n",
       "Jan $31M   $ nanM  $ nanM  $ nanM    $ 0M  $ nanM  $ nanM              $ 6M   \n",
       "Feb $579M   $ 40M   $ 21M  $ nanM  $ nanM  $ nanM  $ nanM             $ 12M   \n",
       "Mar $216M    $ 5M   $ 57M  $ nanM    $ 1M  $ nanM  $ nanM              $ 4M   \n",
       "Apr $405M  $ 273M  $ nanM  $ nanM  $ nanM  $ nanM  $ nanM              $ 7M   \n",
       "May $294M  $ 147M   $ 87M   $ 45M  $ nanM  $ nanM  $ nanM              $ 3M   \n",
       "Jun $233M    $ 0M  $ 233M  $ nanM  $ nanM  $ nanM  $ nanM            $ nanM   \n",
       "Jul $189M    $ 0M    $ 5M  $ 134M   $ 13M  $ nanM  $ nanM             $ 37M   \n",
       "Aug $584M  $ nanM  $ nanM    $ 0M  $ 444M   $ 41M  $ nanM             $ 97M   \n",
       "Sep $172M  $ nanM  $ nanM  $ nanM    $ 9M  $ 149M  $ nanM             $ 14M   \n",
       "Oct $214M  $ nanM  $ nanM  $ nanM  $ nanM   $ 13M  $ 114M             $ 86M   \n",
       "Nov $377M  $ nanM  $ nanM  $ nanM  $ nanM  $ nanM  $ nanM            $ 377M   \n",
       "Total      $ nanM  $ nanM  $ nanM  $ nanM  $ nanM  $ nanM            $ nanM   \n",
       "\n",
       "mes_sap     Total  \n",
       "mes_f4             \n",
       "Jan $31M   $ nanM  \n",
       "Feb $579M  $ nanM  \n",
       "Mar $216M  $ nanM  \n",
       "Apr $405M  $ nanM  \n",
       "May $294M  $ nanM  \n",
       "Jun $233M  $ nanM  \n",
       "Jul $189M  $ nanM  \n",
       "Aug $584M  $ nanM  \n",
       "Sep $172M  $ nanM  \n",
       "Oct $214M  $ nanM  \n",
       "Nov $377M  $ nanM  \n",
       "Total      $ nanM  "
      ]
     },
     "execution_count": 127,
     "metadata": {},
     "output_type": "execute_result"
    }
   ],
   "source": [
    "import numpy as np \n",
    "table.applymap(lambda x: f\"$ {x/1e6:,.0f}M\")"
   ]
  },
  {
   "cell_type": "code",
   "execution_count": 128,
   "id": "64d8088c",
   "metadata": {},
   "outputs": [
    {
     "data": {
      "text/html": [
       "<div>\n",
       "<style scoped>\n",
       "    .dataframe tbody tr th:only-of-type {\n",
       "        vertical-align: middle;\n",
       "    }\n",
       "\n",
       "    .dataframe tbody tr th {\n",
       "        vertical-align: top;\n",
       "    }\n",
       "\n",
       "    .dataframe thead th {\n",
       "        text-align: right;\n",
       "    }\n",
       "</style>\n",
       "<table border=\"1\" class=\"dataframe\">\n",
       "  <thead>\n",
       "    <tr style=\"text-align: right;\">\n",
       "      <th>mes_sap</th>\n",
       "      <th>Sep-21</th>\n",
       "      <th>Oct-21</th>\n",
       "      <th>Nov-21</th>\n",
       "      <th>Dec-21</th>\n",
       "      <th>Jan-22</th>\n",
       "      <th>Feb-22</th>\n",
       "      <th>Mar-22</th>\n",
       "      <th>Apr-22</th>\n",
       "      <th>May-22</th>\n",
       "      <th>Jun-22</th>\n",
       "      <th>Jul-22</th>\n",
       "      <th>Aug-22</th>\n",
       "      <th>Sep-22</th>\n",
       "      <th>Oct-22</th>\n",
       "      <th>Pendiente recobro</th>\n",
       "      <th>Total</th>\n",
       "    </tr>\n",
       "    <tr>\n",
       "      <th>mes_f4</th>\n",
       "      <th></th>\n",
       "      <th></th>\n",
       "      <th></th>\n",
       "      <th></th>\n",
       "      <th></th>\n",
       "      <th></th>\n",
       "      <th></th>\n",
       "      <th></th>\n",
       "      <th></th>\n",
       "      <th></th>\n",
       "      <th></th>\n",
       "      <th></th>\n",
       "      <th></th>\n",
       "      <th></th>\n",
       "      <th></th>\n",
       "      <th></th>\n",
       "    </tr>\n",
       "  </thead>\n",
       "  <tbody>\n",
       "    <tr>\n",
       "      <th>Jan $31M</th>\n",
       "      <td>NaN</td>\n",
       "      <td>NaN</td>\n",
       "      <td>NaN</td>\n",
       "      <td>858091.0</td>\n",
       "      <td>10483741.0</td>\n",
       "      <td>NaN</td>\n",
       "      <td>8445635.0</td>\n",
       "      <td>5222061.0</td>\n",
       "      <td>NaN</td>\n",
       "      <td>NaN</td>\n",
       "      <td>NaN</td>\n",
       "      <td>372295.0</td>\n",
       "      <td>NaN</td>\n",
       "      <td>NaN</td>\n",
       "      <td>6017672.0</td>\n",
       "      <td>NaN</td>\n",
       "    </tr>\n",
       "    <tr>\n",
       "      <th>Feb $579M</th>\n",
       "      <td>NaN</td>\n",
       "      <td>NaN</td>\n",
       "      <td>NaN</td>\n",
       "      <td>4931863.0</td>\n",
       "      <td>129900.0</td>\n",
       "      <td>25994790.0</td>\n",
       "      <td>314610377.0</td>\n",
       "      <td>160455093.0</td>\n",
       "      <td>40115028.0</td>\n",
       "      <td>20648883.0</td>\n",
       "      <td>NaN</td>\n",
       "      <td>NaN</td>\n",
       "      <td>NaN</td>\n",
       "      <td>NaN</td>\n",
       "      <td>12405208.0</td>\n",
       "      <td>NaN</td>\n",
       "    </tr>\n",
       "    <tr>\n",
       "      <th>Mar $216M</th>\n",
       "      <td>NaN</td>\n",
       "      <td>6464.0</td>\n",
       "      <td>156597.0</td>\n",
       "      <td>10404544.0</td>\n",
       "      <td>759846.0</td>\n",
       "      <td>14525348.0</td>\n",
       "      <td>106768712.0</td>\n",
       "      <td>15244995.0</td>\n",
       "      <td>5435102.0</td>\n",
       "      <td>56781006.0</td>\n",
       "      <td>NaN</td>\n",
       "      <td>1192236.0</td>\n",
       "      <td>NaN</td>\n",
       "      <td>NaN</td>\n",
       "      <td>4470469.0</td>\n",
       "      <td>NaN</td>\n",
       "    </tr>\n",
       "    <tr>\n",
       "      <th>Apr $405M</th>\n",
       "      <td>NaN</td>\n",
       "      <td>NaN</td>\n",
       "      <td>NaN</td>\n",
       "      <td>NaN</td>\n",
       "      <td>NaN</td>\n",
       "      <td>NaN</td>\n",
       "      <td>504218.0</td>\n",
       "      <td>124275092.0</td>\n",
       "      <td>272793971.0</td>\n",
       "      <td>NaN</td>\n",
       "      <td>NaN</td>\n",
       "      <td>NaN</td>\n",
       "      <td>NaN</td>\n",
       "      <td>NaN</td>\n",
       "      <td>6935827.0</td>\n",
       "      <td>NaN</td>\n",
       "    </tr>\n",
       "    <tr>\n",
       "      <th>May $294M</th>\n",
       "      <td>5063532.0</td>\n",
       "      <td>2249100.0</td>\n",
       "      <td>216362.0</td>\n",
       "      <td>NaN</td>\n",
       "      <td>NaN</td>\n",
       "      <td>NaN</td>\n",
       "      <td>NaN</td>\n",
       "      <td>4978945.0</td>\n",
       "      <td>146772288.0</td>\n",
       "      <td>86636438.0</td>\n",
       "      <td>45063918.0</td>\n",
       "      <td>NaN</td>\n",
       "      <td>NaN</td>\n",
       "      <td>NaN</td>\n",
       "      <td>2848119.0</td>\n",
       "      <td>NaN</td>\n",
       "    </tr>\n",
       "    <tr>\n",
       "      <th>Jun $233M</th>\n",
       "      <td>NaN</td>\n",
       "      <td>NaN</td>\n",
       "      <td>NaN</td>\n",
       "      <td>NaN</td>\n",
       "      <td>NaN</td>\n",
       "      <td>NaN</td>\n",
       "      <td>255800.0</td>\n",
       "      <td>NaN</td>\n",
       "      <td>232276.0</td>\n",
       "      <td>232690717.0</td>\n",
       "      <td>NaN</td>\n",
       "      <td>NaN</td>\n",
       "      <td>NaN</td>\n",
       "      <td>NaN</td>\n",
       "      <td>NaN</td>\n",
       "      <td>NaN</td>\n",
       "    </tr>\n",
       "    <tr>\n",
       "      <th>Jul $189M</th>\n",
       "      <td>55550.0</td>\n",
       "      <td>NaN</td>\n",
       "      <td>NaN</td>\n",
       "      <td>230000.0</td>\n",
       "      <td>NaN</td>\n",
       "      <td>135259.0</td>\n",
       "      <td>NaN</td>\n",
       "      <td>108224.0</td>\n",
       "      <td>92834.0</td>\n",
       "      <td>4799698.0</td>\n",
       "      <td>133821324.0</td>\n",
       "      <td>12825762.0</td>\n",
       "      <td>NaN</td>\n",
       "      <td>NaN</td>\n",
       "      <td>37081414.0</td>\n",
       "      <td>NaN</td>\n",
       "    </tr>\n",
       "    <tr>\n",
       "      <th>Aug $584M</th>\n",
       "      <td>58760.0</td>\n",
       "      <td>NaN</td>\n",
       "      <td>NaN</td>\n",
       "      <td>892552.0</td>\n",
       "      <td>NaN</td>\n",
       "      <td>NaN</td>\n",
       "      <td>NaN</td>\n",
       "      <td>NaN</td>\n",
       "      <td>NaN</td>\n",
       "      <td>NaN</td>\n",
       "      <td>360236.0</td>\n",
       "      <td>444031674.0</td>\n",
       "      <td>41315893.0</td>\n",
       "      <td>NaN</td>\n",
       "      <td>97157586.0</td>\n",
       "      <td>NaN</td>\n",
       "    </tr>\n",
       "    <tr>\n",
       "      <th>Sep $172M</th>\n",
       "      <td>NaN</td>\n",
       "      <td>NaN</td>\n",
       "      <td>NaN</td>\n",
       "      <td>NaN</td>\n",
       "      <td>NaN</td>\n",
       "      <td>NaN</td>\n",
       "      <td>NaN</td>\n",
       "      <td>NaN</td>\n",
       "      <td>NaN</td>\n",
       "      <td>NaN</td>\n",
       "      <td>NaN</td>\n",
       "      <td>8979921.0</td>\n",
       "      <td>148913743.0</td>\n",
       "      <td>NaN</td>\n",
       "      <td>14129191.0</td>\n",
       "      <td>NaN</td>\n",
       "    </tr>\n",
       "    <tr>\n",
       "      <th>Oct $214M</th>\n",
       "      <td>NaN</td>\n",
       "      <td>NaN</td>\n",
       "      <td>NaN</td>\n",
       "      <td>NaN</td>\n",
       "      <td>NaN</td>\n",
       "      <td>NaN</td>\n",
       "      <td>NaN</td>\n",
       "      <td>NaN</td>\n",
       "      <td>NaN</td>\n",
       "      <td>NaN</td>\n",
       "      <td>NaN</td>\n",
       "      <td>NaN</td>\n",
       "      <td>12930508.0</td>\n",
       "      <td>114476998.0</td>\n",
       "      <td>86342631.0</td>\n",
       "      <td>NaN</td>\n",
       "    </tr>\n",
       "    <tr>\n",
       "      <th>Nov $377M</th>\n",
       "      <td>NaN</td>\n",
       "      <td>NaN</td>\n",
       "      <td>NaN</td>\n",
       "      <td>NaN</td>\n",
       "      <td>NaN</td>\n",
       "      <td>NaN</td>\n",
       "      <td>NaN</td>\n",
       "      <td>NaN</td>\n",
       "      <td>NaN</td>\n",
       "      <td>NaN</td>\n",
       "      <td>NaN</td>\n",
       "      <td>NaN</td>\n",
       "      <td>NaN</td>\n",
       "      <td>NaN</td>\n",
       "      <td>376683343.0</td>\n",
       "      <td>NaN</td>\n",
       "    </tr>\n",
       "    <tr>\n",
       "      <th>Total</th>\n",
       "      <td>NaN</td>\n",
       "      <td>NaN</td>\n",
       "      <td>NaN</td>\n",
       "      <td>NaN</td>\n",
       "      <td>NaN</td>\n",
       "      <td>NaN</td>\n",
       "      <td>NaN</td>\n",
       "      <td>NaN</td>\n",
       "      <td>NaN</td>\n",
       "      <td>NaN</td>\n",
       "      <td>NaN</td>\n",
       "      <td>NaN</td>\n",
       "      <td>NaN</td>\n",
       "      <td>NaN</td>\n",
       "      <td>NaN</td>\n",
       "      <td>NaN</td>\n",
       "    </tr>\n",
       "  </tbody>\n",
       "</table>\n",
       "</div>"
      ],
      "text/plain": [
       "mes_sap       Sep-21     Oct-21    Nov-21      Dec-21      Jan-22      Feb-22  \\\n",
       "mes_f4                                                                          \n",
       "Jan $31M         NaN        NaN       NaN    858091.0  10483741.0         NaN   \n",
       "Feb $579M        NaN        NaN       NaN   4931863.0    129900.0  25994790.0   \n",
       "Mar $216M        NaN     6464.0  156597.0  10404544.0    759846.0  14525348.0   \n",
       "Apr $405M        NaN        NaN       NaN         NaN         NaN         NaN   \n",
       "May $294M  5063532.0  2249100.0  216362.0         NaN         NaN         NaN   \n",
       "Jun $233M        NaN        NaN       NaN         NaN         NaN         NaN   \n",
       "Jul $189M    55550.0        NaN       NaN    230000.0         NaN    135259.0   \n",
       "Aug $584M    58760.0        NaN       NaN    892552.0         NaN         NaN   \n",
       "Sep $172M        NaN        NaN       NaN         NaN         NaN         NaN   \n",
       "Oct $214M        NaN        NaN       NaN         NaN         NaN         NaN   \n",
       "Nov $377M        NaN        NaN       NaN         NaN         NaN         NaN   \n",
       "Total            NaN        NaN       NaN         NaN         NaN         NaN   \n",
       "\n",
       "mes_sap         Mar-22       Apr-22       May-22       Jun-22       Jul-22  \\\n",
       "mes_f4                                                                       \n",
       "Jan $31M     8445635.0    5222061.0          NaN          NaN          NaN   \n",
       "Feb $579M  314610377.0  160455093.0   40115028.0   20648883.0          NaN   \n",
       "Mar $216M  106768712.0   15244995.0    5435102.0   56781006.0          NaN   \n",
       "Apr $405M     504218.0  124275092.0  272793971.0          NaN          NaN   \n",
       "May $294M          NaN    4978945.0  146772288.0   86636438.0   45063918.0   \n",
       "Jun $233M     255800.0          NaN     232276.0  232690717.0          NaN   \n",
       "Jul $189M          NaN     108224.0      92834.0    4799698.0  133821324.0   \n",
       "Aug $584M          NaN          NaN          NaN          NaN     360236.0   \n",
       "Sep $172M          NaN          NaN          NaN          NaN          NaN   \n",
       "Oct $214M          NaN          NaN          NaN          NaN          NaN   \n",
       "Nov $377M          NaN          NaN          NaN          NaN          NaN   \n",
       "Total              NaN          NaN          NaN          NaN          NaN   \n",
       "\n",
       "mes_sap         Aug-22       Sep-22       Oct-22  Pendiente recobro  Total  \n",
       "mes_f4                                                                      \n",
       "Jan $31M      372295.0          NaN          NaN          6017672.0    NaN  \n",
       "Feb $579M          NaN          NaN          NaN         12405208.0    NaN  \n",
       "Mar $216M    1192236.0          NaN          NaN          4470469.0    NaN  \n",
       "Apr $405M          NaN          NaN          NaN          6935827.0    NaN  \n",
       "May $294M          NaN          NaN          NaN          2848119.0    NaN  \n",
       "Jun $233M          NaN          NaN          NaN                NaN    NaN  \n",
       "Jul $189M   12825762.0          NaN          NaN         37081414.0    NaN  \n",
       "Aug $584M  444031674.0   41315893.0          NaN         97157586.0    NaN  \n",
       "Sep $172M    8979921.0  148913743.0          NaN         14129191.0    NaN  \n",
       "Oct $214M          NaN   12930508.0  114476998.0         86342631.0    NaN  \n",
       "Nov $377M          NaN          NaN          NaN        376683343.0    NaN  \n",
       "Total              NaN          NaN          NaN                NaN    NaN  "
      ]
     },
     "execution_count": 128,
     "metadata": {},
     "output_type": "execute_result"
    }
   ],
   "source": [
    "table"
   ]
  },
  {
   "cell_type": "code",
   "execution_count": 129,
   "id": "0a7d4c54",
   "metadata": {
    "scrolled": false
   },
   "outputs": [
    {
     "data": {
      "application/vnd.plotly.v1+json": {
       "config": {
        "plotlyServerURL": "https://plot.ly"
       },
       "data": [
        {
         "coloraxis": "coloraxis",
         "hovertemplate": "Mes SAP: %{x}<br>Mes reserva F4: %{y}<br>color: %{z}<extra></extra>",
         "name": "0",
         "texttemplate": "%{z:.2s}",
         "type": "heatmap",
         "x": [
          "Sep-21",
          "Oct-21",
          "Nov-21",
          "Dec-21",
          "Jan-22",
          "Feb-22",
          "Mar-22",
          "Apr-22",
          "May-22",
          "Jun-22",
          "Jul-22",
          "Aug-22",
          "Sep-22",
          "Oct-22",
          "Pendiente recobro",
          "Total"
         ],
         "xaxis": "x",
         "y": [
          "Jan $31M",
          "Feb $579M",
          "Mar $216M",
          "Apr $405M",
          "May $294M",
          "Jun $233M",
          "Jul $189M",
          "Aug $584M",
          "Sep $172M",
          "Oct $214M",
          "Nov $377M",
          "Total"
         ],
         "yaxis": "y",
         "z": [
          [
           null,
           null,
           null,
           858091,
           10483741,
           null,
           8445635,
           5222061,
           null,
           null,
           null,
           372295,
           null,
           null,
           6017672,
           null
          ],
          [
           null,
           null,
           null,
           4931863,
           129900,
           25994790,
           314610377,
           160455093,
           40115028,
           20648883,
           null,
           null,
           null,
           null,
           12405208,
           null
          ],
          [
           null,
           6464,
           156597,
           10404544,
           759846,
           14525348,
           106768712,
           15244995,
           5435102,
           56781006,
           null,
           1192236,
           null,
           null,
           4470469,
           null
          ],
          [
           null,
           null,
           null,
           null,
           null,
           null,
           504218,
           124275092,
           272793971,
           null,
           null,
           null,
           null,
           null,
           6935827,
           null
          ],
          [
           5063532,
           2249100,
           216362,
           null,
           null,
           null,
           null,
           4978945,
           146772288,
           86636438,
           45063918,
           null,
           null,
           null,
           2848119,
           null
          ],
          [
           null,
           null,
           null,
           null,
           null,
           null,
           255800,
           null,
           232276,
           232690717,
           null,
           null,
           null,
           null,
           null,
           null
          ],
          [
           55550,
           null,
           null,
           230000,
           null,
           135259,
           null,
           108224,
           92834,
           4799698,
           133821324,
           12825762,
           null,
           null,
           37081414,
           null
          ],
          [
           58760,
           null,
           null,
           892552,
           null,
           null,
           null,
           null,
           null,
           null,
           360236,
           444031674,
           41315893,
           null,
           97157586,
           null
          ],
          [
           null,
           null,
           null,
           null,
           null,
           null,
           null,
           null,
           null,
           null,
           null,
           8979921,
           148913743,
           null,
           14129191,
           null
          ],
          [
           null,
           null,
           null,
           null,
           null,
           null,
           null,
           null,
           null,
           null,
           null,
           null,
           12930508,
           114476998,
           86342631,
           null
          ],
          [
           null,
           null,
           null,
           null,
           null,
           null,
           null,
           null,
           null,
           null,
           null,
           null,
           null,
           null,
           376683343,
           null
          ],
          [
           null,
           null,
           null,
           null,
           null,
           null,
           null,
           null,
           null,
           null,
           null,
           null,
           null,
           null,
           null,
           null
          ]
         ]
        }
       ],
       "layout": {
        "coloraxis": {
         "colorscale": [
          [
           0,
           "#0d0887"
          ],
          [
           0.1111111111111111,
           "#46039f"
          ],
          [
           0.2222222222222222,
           "#7201a8"
          ],
          [
           0.3333333333333333,
           "#9c179e"
          ],
          [
           0.4444444444444444,
           "#bd3786"
          ],
          [
           0.5555555555555556,
           "#d8576b"
          ],
          [
           0.6666666666666666,
           "#ed7953"
          ],
          [
           0.7777777777777778,
           "#fb9f3a"
          ],
          [
           0.8888888888888888,
           "#fdca26"
          ],
          [
           1,
           "#f0f921"
          ]
         ]
        },
        "template": {
         "data": {
          "bar": [
           {
            "error_x": {
             "color": "#2a3f5f"
            },
            "error_y": {
             "color": "#2a3f5f"
            },
            "marker": {
             "line": {
              "color": "#E5ECF6",
              "width": 0.5
             },
             "pattern": {
              "fillmode": "overlay",
              "size": 10,
              "solidity": 0.2
             }
            },
            "type": "bar"
           }
          ],
          "barpolar": [
           {
            "marker": {
             "line": {
              "color": "#E5ECF6",
              "width": 0.5
             },
             "pattern": {
              "fillmode": "overlay",
              "size": 10,
              "solidity": 0.2
             }
            },
            "type": "barpolar"
           }
          ],
          "carpet": [
           {
            "aaxis": {
             "endlinecolor": "#2a3f5f",
             "gridcolor": "white",
             "linecolor": "white",
             "minorgridcolor": "white",
             "startlinecolor": "#2a3f5f"
            },
            "baxis": {
             "endlinecolor": "#2a3f5f",
             "gridcolor": "white",
             "linecolor": "white",
             "minorgridcolor": "white",
             "startlinecolor": "#2a3f5f"
            },
            "type": "carpet"
           }
          ],
          "choropleth": [
           {
            "colorbar": {
             "outlinewidth": 0,
             "ticks": ""
            },
            "type": "choropleth"
           }
          ],
          "contour": [
           {
            "colorbar": {
             "outlinewidth": 0,
             "ticks": ""
            },
            "colorscale": [
             [
              0,
              "#0d0887"
             ],
             [
              0.1111111111111111,
              "#46039f"
             ],
             [
              0.2222222222222222,
              "#7201a8"
             ],
             [
              0.3333333333333333,
              "#9c179e"
             ],
             [
              0.4444444444444444,
              "#bd3786"
             ],
             [
              0.5555555555555556,
              "#d8576b"
             ],
             [
              0.6666666666666666,
              "#ed7953"
             ],
             [
              0.7777777777777778,
              "#fb9f3a"
             ],
             [
              0.8888888888888888,
              "#fdca26"
             ],
             [
              1,
              "#f0f921"
             ]
            ],
            "type": "contour"
           }
          ],
          "contourcarpet": [
           {
            "colorbar": {
             "outlinewidth": 0,
             "ticks": ""
            },
            "type": "contourcarpet"
           }
          ],
          "heatmap": [
           {
            "colorbar": {
             "outlinewidth": 0,
             "ticks": ""
            },
            "colorscale": [
             [
              0,
              "#0d0887"
             ],
             [
              0.1111111111111111,
              "#46039f"
             ],
             [
              0.2222222222222222,
              "#7201a8"
             ],
             [
              0.3333333333333333,
              "#9c179e"
             ],
             [
              0.4444444444444444,
              "#bd3786"
             ],
             [
              0.5555555555555556,
              "#d8576b"
             ],
             [
              0.6666666666666666,
              "#ed7953"
             ],
             [
              0.7777777777777778,
              "#fb9f3a"
             ],
             [
              0.8888888888888888,
              "#fdca26"
             ],
             [
              1,
              "#f0f921"
             ]
            ],
            "type": "heatmap"
           }
          ],
          "heatmapgl": [
           {
            "colorbar": {
             "outlinewidth": 0,
             "ticks": ""
            },
            "colorscale": [
             [
              0,
              "#0d0887"
             ],
             [
              0.1111111111111111,
              "#46039f"
             ],
             [
              0.2222222222222222,
              "#7201a8"
             ],
             [
              0.3333333333333333,
              "#9c179e"
             ],
             [
              0.4444444444444444,
              "#bd3786"
             ],
             [
              0.5555555555555556,
              "#d8576b"
             ],
             [
              0.6666666666666666,
              "#ed7953"
             ],
             [
              0.7777777777777778,
              "#fb9f3a"
             ],
             [
              0.8888888888888888,
              "#fdca26"
             ],
             [
              1,
              "#f0f921"
             ]
            ],
            "type": "heatmapgl"
           }
          ],
          "histogram": [
           {
            "marker": {
             "pattern": {
              "fillmode": "overlay",
              "size": 10,
              "solidity": 0.2
             }
            },
            "type": "histogram"
           }
          ],
          "histogram2d": [
           {
            "colorbar": {
             "outlinewidth": 0,
             "ticks": ""
            },
            "colorscale": [
             [
              0,
              "#0d0887"
             ],
             [
              0.1111111111111111,
              "#46039f"
             ],
             [
              0.2222222222222222,
              "#7201a8"
             ],
             [
              0.3333333333333333,
              "#9c179e"
             ],
             [
              0.4444444444444444,
              "#bd3786"
             ],
             [
              0.5555555555555556,
              "#d8576b"
             ],
             [
              0.6666666666666666,
              "#ed7953"
             ],
             [
              0.7777777777777778,
              "#fb9f3a"
             ],
             [
              0.8888888888888888,
              "#fdca26"
             ],
             [
              1,
              "#f0f921"
             ]
            ],
            "type": "histogram2d"
           }
          ],
          "histogram2dcontour": [
           {
            "colorbar": {
             "outlinewidth": 0,
             "ticks": ""
            },
            "colorscale": [
             [
              0,
              "#0d0887"
             ],
             [
              0.1111111111111111,
              "#46039f"
             ],
             [
              0.2222222222222222,
              "#7201a8"
             ],
             [
              0.3333333333333333,
              "#9c179e"
             ],
             [
              0.4444444444444444,
              "#bd3786"
             ],
             [
              0.5555555555555556,
              "#d8576b"
             ],
             [
              0.6666666666666666,
              "#ed7953"
             ],
             [
              0.7777777777777778,
              "#fb9f3a"
             ],
             [
              0.8888888888888888,
              "#fdca26"
             ],
             [
              1,
              "#f0f921"
             ]
            ],
            "type": "histogram2dcontour"
           }
          ],
          "mesh3d": [
           {
            "colorbar": {
             "outlinewidth": 0,
             "ticks": ""
            },
            "type": "mesh3d"
           }
          ],
          "parcoords": [
           {
            "line": {
             "colorbar": {
              "outlinewidth": 0,
              "ticks": ""
             }
            },
            "type": "parcoords"
           }
          ],
          "pie": [
           {
            "automargin": true,
            "type": "pie"
           }
          ],
          "scatter": [
           {
            "marker": {
             "colorbar": {
              "outlinewidth": 0,
              "ticks": ""
             }
            },
            "type": "scatter"
           }
          ],
          "scatter3d": [
           {
            "line": {
             "colorbar": {
              "outlinewidth": 0,
              "ticks": ""
             }
            },
            "marker": {
             "colorbar": {
              "outlinewidth": 0,
              "ticks": ""
             }
            },
            "type": "scatter3d"
           }
          ],
          "scattercarpet": [
           {
            "marker": {
             "colorbar": {
              "outlinewidth": 0,
              "ticks": ""
             }
            },
            "type": "scattercarpet"
           }
          ],
          "scattergeo": [
           {
            "marker": {
             "colorbar": {
              "outlinewidth": 0,
              "ticks": ""
             }
            },
            "type": "scattergeo"
           }
          ],
          "scattergl": [
           {
            "marker": {
             "colorbar": {
              "outlinewidth": 0,
              "ticks": ""
             }
            },
            "type": "scattergl"
           }
          ],
          "scattermapbox": [
           {
            "marker": {
             "colorbar": {
              "outlinewidth": 0,
              "ticks": ""
             }
            },
            "type": "scattermapbox"
           }
          ],
          "scatterpolar": [
           {
            "marker": {
             "colorbar": {
              "outlinewidth": 0,
              "ticks": ""
             }
            },
            "type": "scatterpolar"
           }
          ],
          "scatterpolargl": [
           {
            "marker": {
             "colorbar": {
              "outlinewidth": 0,
              "ticks": ""
             }
            },
            "type": "scatterpolargl"
           }
          ],
          "scatterternary": [
           {
            "marker": {
             "colorbar": {
              "outlinewidth": 0,
              "ticks": ""
             }
            },
            "type": "scatterternary"
           }
          ],
          "surface": [
           {
            "colorbar": {
             "outlinewidth": 0,
             "ticks": ""
            },
            "colorscale": [
             [
              0,
              "#0d0887"
             ],
             [
              0.1111111111111111,
              "#46039f"
             ],
             [
              0.2222222222222222,
              "#7201a8"
             ],
             [
              0.3333333333333333,
              "#9c179e"
             ],
             [
              0.4444444444444444,
              "#bd3786"
             ],
             [
              0.5555555555555556,
              "#d8576b"
             ],
             [
              0.6666666666666666,
              "#ed7953"
             ],
             [
              0.7777777777777778,
              "#fb9f3a"
             ],
             [
              0.8888888888888888,
              "#fdca26"
             ],
             [
              1,
              "#f0f921"
             ]
            ],
            "type": "surface"
           }
          ],
          "table": [
           {
            "cells": {
             "fill": {
              "color": "#EBF0F8"
             },
             "line": {
              "color": "white"
             }
            },
            "header": {
             "fill": {
              "color": "#C8D4E3"
             },
             "line": {
              "color": "white"
             }
            },
            "type": "table"
           }
          ]
         },
         "layout": {
          "annotationdefaults": {
           "arrowcolor": "#2a3f5f",
           "arrowhead": 0,
           "arrowwidth": 1
          },
          "autotypenumbers": "strict",
          "coloraxis": {
           "colorbar": {
            "outlinewidth": 0,
            "ticks": ""
           }
          },
          "colorscale": {
           "diverging": [
            [
             0,
             "#8e0152"
            ],
            [
             0.1,
             "#c51b7d"
            ],
            [
             0.2,
             "#de77ae"
            ],
            [
             0.3,
             "#f1b6da"
            ],
            [
             0.4,
             "#fde0ef"
            ],
            [
             0.5,
             "#f7f7f7"
            ],
            [
             0.6,
             "#e6f5d0"
            ],
            [
             0.7,
             "#b8e186"
            ],
            [
             0.8,
             "#7fbc41"
            ],
            [
             0.9,
             "#4d9221"
            ],
            [
             1,
             "#276419"
            ]
           ],
           "sequential": [
            [
             0,
             "#0d0887"
            ],
            [
             0.1111111111111111,
             "#46039f"
            ],
            [
             0.2222222222222222,
             "#7201a8"
            ],
            [
             0.3333333333333333,
             "#9c179e"
            ],
            [
             0.4444444444444444,
             "#bd3786"
            ],
            [
             0.5555555555555556,
             "#d8576b"
            ],
            [
             0.6666666666666666,
             "#ed7953"
            ],
            [
             0.7777777777777778,
             "#fb9f3a"
            ],
            [
             0.8888888888888888,
             "#fdca26"
            ],
            [
             1,
             "#f0f921"
            ]
           ],
           "sequentialminus": [
            [
             0,
             "#0d0887"
            ],
            [
             0.1111111111111111,
             "#46039f"
            ],
            [
             0.2222222222222222,
             "#7201a8"
            ],
            [
             0.3333333333333333,
             "#9c179e"
            ],
            [
             0.4444444444444444,
             "#bd3786"
            ],
            [
             0.5555555555555556,
             "#d8576b"
            ],
            [
             0.6666666666666666,
             "#ed7953"
            ],
            [
             0.7777777777777778,
             "#fb9f3a"
            ],
            [
             0.8888888888888888,
             "#fdca26"
            ],
            [
             1,
             "#f0f921"
            ]
           ]
          },
          "colorway": [
           "#636efa",
           "#EF553B",
           "#00cc96",
           "#ab63fa",
           "#FFA15A",
           "#19d3f3",
           "#FF6692",
           "#B6E880",
           "#FF97FF",
           "#FECB52"
          ],
          "font": {
           "color": "#2a3f5f"
          },
          "geo": {
           "bgcolor": "white",
           "lakecolor": "white",
           "landcolor": "#E5ECF6",
           "showlakes": true,
           "showland": true,
           "subunitcolor": "white"
          },
          "hoverlabel": {
           "align": "left"
          },
          "hovermode": "closest",
          "mapbox": {
           "style": "light"
          },
          "paper_bgcolor": "white",
          "plot_bgcolor": "#E5ECF6",
          "polar": {
           "angularaxis": {
            "gridcolor": "white",
            "linecolor": "white",
            "ticks": ""
           },
           "bgcolor": "#E5ECF6",
           "radialaxis": {
            "gridcolor": "white",
            "linecolor": "white",
            "ticks": ""
           }
          },
          "scene": {
           "xaxis": {
            "backgroundcolor": "#E5ECF6",
            "gridcolor": "white",
            "gridwidth": 2,
            "linecolor": "white",
            "showbackground": true,
            "ticks": "",
            "zerolinecolor": "white"
           },
           "yaxis": {
            "backgroundcolor": "#E5ECF6",
            "gridcolor": "white",
            "gridwidth": 2,
            "linecolor": "white",
            "showbackground": true,
            "ticks": "",
            "zerolinecolor": "white"
           },
           "zaxis": {
            "backgroundcolor": "#E5ECF6",
            "gridcolor": "white",
            "gridwidth": 2,
            "linecolor": "white",
            "showbackground": true,
            "ticks": "",
            "zerolinecolor": "white"
           }
          },
          "shapedefaults": {
           "line": {
            "color": "#2a3f5f"
           }
          },
          "ternary": {
           "aaxis": {
            "gridcolor": "white",
            "linecolor": "white",
            "ticks": ""
           },
           "baxis": {
            "gridcolor": "white",
            "linecolor": "white",
            "ticks": ""
           },
           "bgcolor": "#E5ECF6",
           "caxis": {
            "gridcolor": "white",
            "linecolor": "white",
            "ticks": ""
           }
          },
          "title": {
           "x": 0.05
          },
          "xaxis": {
           "automargin": true,
           "gridcolor": "white",
           "linecolor": "white",
           "ticks": "",
           "title": {
            "standoff": 15
           },
           "zerolinecolor": "white",
           "zerolinewidth": 2
          },
          "yaxis": {
           "automargin": true,
           "gridcolor": "white",
           "linecolor": "white",
           "ticks": "",
           "title": {
            "standoff": 15
           },
           "zerolinecolor": "white",
           "zerolinewidth": 2
          }
         }
        },
        "title": {
         "text": "Mes de reserva F4 vs mes de registro en SAP"
        },
        "xaxis": {
         "anchor": "y",
         "constrain": "domain",
         "domain": [
          0,
          1
         ],
         "scaleanchor": "y",
         "side": "top",
         "title": {
          "text": "Mes SAP"
         }
        },
        "yaxis": {
         "anchor": "x",
         "autorange": "reversed",
         "constrain": "domain",
         "domain": [
          0,
          1
         ],
         "title": {
          "text": "Mes reserva F4"
         }
        }
       }
      }
     },
     "metadata": {},
     "output_type": "display_data"
    }
   ],
   "source": [
    "import plotly.express as px\n",
    "data=[[1, 25, 30, 50, 1], [20, 1, 60, 80, 30], [30, 60, 1, 5, 20]]\n",
    "fig = px.imshow(table, text_auto = '.2s', title='Mes de reserva F4 vs mes de registro en SAP', labels={'x':'Mes SAP', 'y':'Mes reserva F4'})\n",
    "fig.update_xaxes(side=\"top\")\n",
    "fig.write_image(f\"{dt_string}_mes_x_mes.png\", height=500,width=1000, engine='orca')\n",
    "fig.show()"
   ]
  },
  {
   "cell_type": "code",
   "execution_count": 130,
   "id": "f6919d1b",
   "metadata": {},
   "outputs": [
    {
     "data": {
      "text/html": [
       "<div>\n",
       "<style scoped>\n",
       "    .dataframe tbody tr th:only-of-type {\n",
       "        vertical-align: middle;\n",
       "    }\n",
       "\n",
       "    .dataframe tbody tr th {\n",
       "        vertical-align: top;\n",
       "    }\n",
       "\n",
       "    .dataframe thead th {\n",
       "        text-align: right;\n",
       "    }\n",
       "</style>\n",
       "<table border=\"1\" class=\"dataframe\">\n",
       "  <thead>\n",
       "    <tr style=\"text-align: right;\">\n",
       "      <th>mes_sap</th>\n",
       "      <th>Dec</th>\n",
       "      <th>Jan</th>\n",
       "      <th>Feb</th>\n",
       "      <th>Mar</th>\n",
       "      <th>Apr</th>\n",
       "      <th>May</th>\n",
       "      <th>Jun</th>\n",
       "      <th>Jul</th>\n",
       "      <th>Aug</th>\n",
       "      <th>Pendiente recobro</th>\n",
       "      <th>Total</th>\n",
       "    </tr>\n",
       "    <tr>\n",
       "      <th>mes_f4</th>\n",
       "      <th></th>\n",
       "      <th></th>\n",
       "      <th></th>\n",
       "      <th></th>\n",
       "      <th></th>\n",
       "      <th></th>\n",
       "      <th></th>\n",
       "      <th></th>\n",
       "      <th></th>\n",
       "      <th></th>\n",
       "      <th></th>\n",
       "    </tr>\n",
       "  </thead>\n",
       "  <tbody>\n",
       "    <tr>\n",
       "      <th>Jan $34M</th>\n",
       "      <td>NaN</td>\n",
       "      <td>NaN</td>\n",
       "      <td>NaN</td>\n",
       "      <td>NaN</td>\n",
       "      <td>NaN</td>\n",
       "      <td>NaN</td>\n",
       "      <td>NaN</td>\n",
       "      <td>NaN</td>\n",
       "      <td>NaN</td>\n",
       "      <td>NaN</td>\n",
       "      <td>NaN</td>\n",
       "    </tr>\n",
       "    <tr>\n",
       "      <th>Feb $620M</th>\n",
       "      <td>NaN</td>\n",
       "      <td>NaN</td>\n",
       "      <td>NaN</td>\n",
       "      <td>NaN</td>\n",
       "      <td>NaN</td>\n",
       "      <td>NaN</td>\n",
       "      <td>NaN</td>\n",
       "      <td>NaN</td>\n",
       "      <td>NaN</td>\n",
       "      <td>NaN</td>\n",
       "      <td>NaN</td>\n",
       "    </tr>\n",
       "    <tr>\n",
       "      <th>Mar $262M</th>\n",
       "      <td>NaN</td>\n",
       "      <td>NaN</td>\n",
       "      <td>NaN</td>\n",
       "      <td>NaN</td>\n",
       "      <td>NaN</td>\n",
       "      <td>NaN</td>\n",
       "      <td>NaN</td>\n",
       "      <td>NaN</td>\n",
       "      <td>NaN</td>\n",
       "      <td>NaN</td>\n",
       "      <td>NaN</td>\n",
       "    </tr>\n",
       "    <tr>\n",
       "      <th>Apr $517M</th>\n",
       "      <td>NaN</td>\n",
       "      <td>NaN</td>\n",
       "      <td>NaN</td>\n",
       "      <td>NaN</td>\n",
       "      <td>NaN</td>\n",
       "      <td>NaN</td>\n",
       "      <td>NaN</td>\n",
       "      <td>NaN</td>\n",
       "      <td>NaN</td>\n",
       "      <td>NaN</td>\n",
       "      <td>NaN</td>\n",
       "    </tr>\n",
       "    <tr>\n",
       "      <th>May $294M</th>\n",
       "      <td>NaN</td>\n",
       "      <td>NaN</td>\n",
       "      <td>NaN</td>\n",
       "      <td>NaN</td>\n",
       "      <td>NaN</td>\n",
       "      <td>NaN</td>\n",
       "      <td>NaN</td>\n",
       "      <td>NaN</td>\n",
       "      <td>NaN</td>\n",
       "      <td>2848119.0</td>\n",
       "      <td>2.938287e+08</td>\n",
       "    </tr>\n",
       "    <tr>\n",
       "      <th>Jun $233M</th>\n",
       "      <td>NaN</td>\n",
       "      <td>NaN</td>\n",
       "      <td>NaN</td>\n",
       "      <td>NaN</td>\n",
       "      <td>NaN</td>\n",
       "      <td>NaN</td>\n",
       "      <td>NaN</td>\n",
       "      <td>NaN</td>\n",
       "      <td>NaN</td>\n",
       "      <td>NaN</td>\n",
       "      <td>2.331788e+08</td>\n",
       "    </tr>\n",
       "    <tr>\n",
       "      <th>Jul $189M</th>\n",
       "      <td>NaN</td>\n",
       "      <td>NaN</td>\n",
       "      <td>NaN</td>\n",
       "      <td>NaN</td>\n",
       "      <td>NaN</td>\n",
       "      <td>NaN</td>\n",
       "      <td>NaN</td>\n",
       "      <td>NaN</td>\n",
       "      <td>NaN</td>\n",
       "      <td>37081414.0</td>\n",
       "      <td>1.891501e+08</td>\n",
       "    </tr>\n",
       "    <tr>\n",
       "      <th>Aug $584M</th>\n",
       "      <td>NaN</td>\n",
       "      <td>NaN</td>\n",
       "      <td>NaN</td>\n",
       "      <td>NaN</td>\n",
       "      <td>NaN</td>\n",
       "      <td>NaN</td>\n",
       "      <td>NaN</td>\n",
       "      <td>NaN</td>\n",
       "      <td>NaN</td>\n",
       "      <td>97157586.0</td>\n",
       "      <td>5.838167e+08</td>\n",
       "    </tr>\n",
       "    <tr>\n",
       "      <th>Total</th>\n",
       "      <td>NaN</td>\n",
       "      <td>NaN</td>\n",
       "      <td>NaN</td>\n",
       "      <td>NaN</td>\n",
       "      <td>NaN</td>\n",
       "      <td>NaN</td>\n",
       "      <td>NaN</td>\n",
       "      <td>NaN</td>\n",
       "      <td>NaN</td>\n",
       "      <td>644071460.0</td>\n",
       "      <td>3.293376e+09</td>\n",
       "    </tr>\n",
       "  </tbody>\n",
       "</table>\n",
       "</div>"
      ],
      "text/plain": [
       "mes_sap    Dec  Jan  Feb  Mar  Apr  May  Jun  Jul  Aug  Pendiente recobro  \\\n",
       "mes_f4                                                                      \n",
       "Jan $34M   NaN  NaN  NaN  NaN  NaN  NaN  NaN  NaN  NaN                NaN   \n",
       "Feb $620M  NaN  NaN  NaN  NaN  NaN  NaN  NaN  NaN  NaN                NaN   \n",
       "Mar $262M  NaN  NaN  NaN  NaN  NaN  NaN  NaN  NaN  NaN                NaN   \n",
       "Apr $517M  NaN  NaN  NaN  NaN  NaN  NaN  NaN  NaN  NaN                NaN   \n",
       "May $294M  NaN  NaN  NaN  NaN  NaN  NaN  NaN  NaN  NaN          2848119.0   \n",
       "Jun $233M  NaN  NaN  NaN  NaN  NaN  NaN  NaN  NaN  NaN                NaN   \n",
       "Jul $189M  NaN  NaN  NaN  NaN  NaN  NaN  NaN  NaN  NaN         37081414.0   \n",
       "Aug $584M  NaN  NaN  NaN  NaN  NaN  NaN  NaN  NaN  NaN         97157586.0   \n",
       "Total      NaN  NaN  NaN  NaN  NaN  NaN  NaN  NaN  NaN        644071460.0   \n",
       "\n",
       "mes_sap           Total  \n",
       "mes_f4                   \n",
       "Jan $34M            NaN  \n",
       "Feb $620M           NaN  \n",
       "Mar $262M           NaN  \n",
       "Apr $517M           NaN  \n",
       "May $294M  2.938287e+08  \n",
       "Jun $233M  2.331788e+08  \n",
       "Jul $189M  1.891501e+08  \n",
       "Aug $584M  5.838167e+08  \n",
       "Total      3.293376e+09  "
      ]
     },
     "execution_count": 130,
     "metadata": {},
     "output_type": "execute_result"
    }
   ],
   "source": [
    "tabla = pd.pivot_table(mes_x_mes, values='TOTAL_COSTO', index=['mes_f4'],\n",
    "                    columns=['mes_sap'], aggfunc=np.sum, margins = True, margins_name='Total')\n",
    "tabla = tabla.reindex(['Jan $34M','Feb $620M', 'Mar $262M','Apr $517M','May $294M', 'Jun $233M', 'Jul $189M', 'Aug $584M','Total'], columns=[ 'Dec', 'Jan', 'Feb', 'Mar', 'Apr', 'May', 'Jun', 'Jul', 'Aug','Pendiente recobro', 'Total'],  )\n",
    "tabla"
   ]
  },
  {
   "cell_type": "code",
   "execution_count": 131,
   "id": "81755078",
   "metadata": {
    "scrolled": false
   },
   "outputs": [
    {
     "data": {
      "text/html": [
       "<div>\n",
       "<style scoped>\n",
       "    .dataframe tbody tr th:only-of-type {\n",
       "        vertical-align: middle;\n",
       "    }\n",
       "\n",
       "    .dataframe tbody tr th {\n",
       "        vertical-align: top;\n",
       "    }\n",
       "\n",
       "    .dataframe thead th {\n",
       "        text-align: right;\n",
       "    }\n",
       "</style>\n",
       "<table border=\"1\" class=\"dataframe\">\n",
       "  <thead>\n",
       "    <tr style=\"text-align: right;\">\n",
       "      <th>mes_sap</th>\n",
       "      <th>Dec</th>\n",
       "      <th>Jan</th>\n",
       "      <th>Feb</th>\n",
       "      <th>Mar</th>\n",
       "      <th>Apr</th>\n",
       "      <th>May</th>\n",
       "      <th>Jun</th>\n",
       "      <th>Jul</th>\n",
       "      <th>Aug</th>\n",
       "      <th>Pendiente recobro</th>\n",
       "      <th>Total</th>\n",
       "    </tr>\n",
       "    <tr>\n",
       "      <th>mes_f4</th>\n",
       "      <th></th>\n",
       "      <th></th>\n",
       "      <th></th>\n",
       "      <th></th>\n",
       "      <th></th>\n",
       "      <th></th>\n",
       "      <th></th>\n",
       "      <th></th>\n",
       "      <th></th>\n",
       "      <th></th>\n",
       "      <th></th>\n",
       "    </tr>\n",
       "  </thead>\n",
       "  <tbody>\n",
       "    <tr>\n",
       "      <th>Jan $34M</th>\n",
       "      <td>$ nanM</td>\n",
       "      <td>$ nanM</td>\n",
       "      <td>$ nanM</td>\n",
       "      <td>$ nanM</td>\n",
       "      <td>$ nanM</td>\n",
       "      <td>$ nanM</td>\n",
       "      <td>$ nanM</td>\n",
       "      <td>$ nanM</td>\n",
       "      <td>$ nanM</td>\n",
       "      <td>$ nanM</td>\n",
       "      <td>$ nanM</td>\n",
       "    </tr>\n",
       "    <tr>\n",
       "      <th>Feb $620M</th>\n",
       "      <td>$ nanM</td>\n",
       "      <td>$ nanM</td>\n",
       "      <td>$ nanM</td>\n",
       "      <td>$ nanM</td>\n",
       "      <td>$ nanM</td>\n",
       "      <td>$ nanM</td>\n",
       "      <td>$ nanM</td>\n",
       "      <td>$ nanM</td>\n",
       "      <td>$ nanM</td>\n",
       "      <td>$ nanM</td>\n",
       "      <td>$ nanM</td>\n",
       "    </tr>\n",
       "    <tr>\n",
       "      <th>Mar $262M</th>\n",
       "      <td>$ nanM</td>\n",
       "      <td>$ nanM</td>\n",
       "      <td>$ nanM</td>\n",
       "      <td>$ nanM</td>\n",
       "      <td>$ nanM</td>\n",
       "      <td>$ nanM</td>\n",
       "      <td>$ nanM</td>\n",
       "      <td>$ nanM</td>\n",
       "      <td>$ nanM</td>\n",
       "      <td>$ nanM</td>\n",
       "      <td>$ nanM</td>\n",
       "    </tr>\n",
       "    <tr>\n",
       "      <th>Apr $517M</th>\n",
       "      <td>$ nanM</td>\n",
       "      <td>$ nanM</td>\n",
       "      <td>$ nanM</td>\n",
       "      <td>$ nanM</td>\n",
       "      <td>$ nanM</td>\n",
       "      <td>$ nanM</td>\n",
       "      <td>$ nanM</td>\n",
       "      <td>$ nanM</td>\n",
       "      <td>$ nanM</td>\n",
       "      <td>$ nanM</td>\n",
       "      <td>$ nanM</td>\n",
       "    </tr>\n",
       "    <tr>\n",
       "      <th>May $294M</th>\n",
       "      <td>$ nanM</td>\n",
       "      <td>$ nanM</td>\n",
       "      <td>$ nanM</td>\n",
       "      <td>$ nanM</td>\n",
       "      <td>$ nanM</td>\n",
       "      <td>$ nanM</td>\n",
       "      <td>$ nanM</td>\n",
       "      <td>$ nanM</td>\n",
       "      <td>$ nanM</td>\n",
       "      <td>$ 3M</td>\n",
       "      <td>$ 294M</td>\n",
       "    </tr>\n",
       "    <tr>\n",
       "      <th>Jun $233M</th>\n",
       "      <td>$ nanM</td>\n",
       "      <td>$ nanM</td>\n",
       "      <td>$ nanM</td>\n",
       "      <td>$ nanM</td>\n",
       "      <td>$ nanM</td>\n",
       "      <td>$ nanM</td>\n",
       "      <td>$ nanM</td>\n",
       "      <td>$ nanM</td>\n",
       "      <td>$ nanM</td>\n",
       "      <td>$ nanM</td>\n",
       "      <td>$ 233M</td>\n",
       "    </tr>\n",
       "    <tr>\n",
       "      <th>Jul $189M</th>\n",
       "      <td>$ nanM</td>\n",
       "      <td>$ nanM</td>\n",
       "      <td>$ nanM</td>\n",
       "      <td>$ nanM</td>\n",
       "      <td>$ nanM</td>\n",
       "      <td>$ nanM</td>\n",
       "      <td>$ nanM</td>\n",
       "      <td>$ nanM</td>\n",
       "      <td>$ nanM</td>\n",
       "      <td>$ 37M</td>\n",
       "      <td>$ 189M</td>\n",
       "    </tr>\n",
       "    <tr>\n",
       "      <th>Aug $584M</th>\n",
       "      <td>$ nanM</td>\n",
       "      <td>$ nanM</td>\n",
       "      <td>$ nanM</td>\n",
       "      <td>$ nanM</td>\n",
       "      <td>$ nanM</td>\n",
       "      <td>$ nanM</td>\n",
       "      <td>$ nanM</td>\n",
       "      <td>$ nanM</td>\n",
       "      <td>$ nanM</td>\n",
       "      <td>$ 97M</td>\n",
       "      <td>$ 584M</td>\n",
       "    </tr>\n",
       "    <tr>\n",
       "      <th>Total</th>\n",
       "      <td>$ nanM</td>\n",
       "      <td>$ nanM</td>\n",
       "      <td>$ nanM</td>\n",
       "      <td>$ nanM</td>\n",
       "      <td>$ nanM</td>\n",
       "      <td>$ nanM</td>\n",
       "      <td>$ nanM</td>\n",
       "      <td>$ nanM</td>\n",
       "      <td>$ nanM</td>\n",
       "      <td>$ 644M</td>\n",
       "      <td>$ 3,293M</td>\n",
       "    </tr>\n",
       "  </tbody>\n",
       "</table>\n",
       "</div>"
      ],
      "text/plain": [
       "mes_sap       Dec     Jan     Feb     Mar     Apr     May     Jun     Jul  \\\n",
       "mes_f4                                                                      \n",
       "Jan $34M   $ nanM  $ nanM  $ nanM  $ nanM  $ nanM  $ nanM  $ nanM  $ nanM   \n",
       "Feb $620M  $ nanM  $ nanM  $ nanM  $ nanM  $ nanM  $ nanM  $ nanM  $ nanM   \n",
       "Mar $262M  $ nanM  $ nanM  $ nanM  $ nanM  $ nanM  $ nanM  $ nanM  $ nanM   \n",
       "Apr $517M  $ nanM  $ nanM  $ nanM  $ nanM  $ nanM  $ nanM  $ nanM  $ nanM   \n",
       "May $294M  $ nanM  $ nanM  $ nanM  $ nanM  $ nanM  $ nanM  $ nanM  $ nanM   \n",
       "Jun $233M  $ nanM  $ nanM  $ nanM  $ nanM  $ nanM  $ nanM  $ nanM  $ nanM   \n",
       "Jul $189M  $ nanM  $ nanM  $ nanM  $ nanM  $ nanM  $ nanM  $ nanM  $ nanM   \n",
       "Aug $584M  $ nanM  $ nanM  $ nanM  $ nanM  $ nanM  $ nanM  $ nanM  $ nanM   \n",
       "Total      $ nanM  $ nanM  $ nanM  $ nanM  $ nanM  $ nanM  $ nanM  $ nanM   \n",
       "\n",
       "mes_sap       Aug Pendiente recobro     Total  \n",
       "mes_f4                                         \n",
       "Jan $34M   $ nanM            $ nanM    $ nanM  \n",
       "Feb $620M  $ nanM            $ nanM    $ nanM  \n",
       "Mar $262M  $ nanM            $ nanM    $ nanM  \n",
       "Apr $517M  $ nanM            $ nanM    $ nanM  \n",
       "May $294M  $ nanM              $ 3M    $ 294M  \n",
       "Jun $233M  $ nanM            $ nanM    $ 233M  \n",
       "Jul $189M  $ nanM             $ 37M    $ 189M  \n",
       "Aug $584M  $ nanM             $ 97M    $ 584M  \n",
       "Total      $ nanM            $ 644M  $ 3,293M  "
      ]
     },
     "execution_count": 131,
     "metadata": {},
     "output_type": "execute_result"
    }
   ],
   "source": [
    "import numpy as np \n",
    "tabla.applymap(lambda x: f\"$ {x/1e6:,.0f}M\" if x != np.nan else 0)"
   ]
  },
  {
   "cell_type": "markdown",
   "id": "dd37b31a",
   "metadata": {},
   "source": [
    "## recobro j11"
   ]
  },
  {
   "cell_type": "markdown",
   "id": "a0b9cedc",
   "metadata": {},
   "source": [
    "df = pd.read_excel('220510_recobro_j11.xlsx', sheet_name='F4 Detalle')"
   ]
  },
  {
   "cell_type": "markdown",
   "id": "acd14e2d",
   "metadata": {},
   "source": [
    "df.groupby(['linea'])['total_costo_f4'].sum()"
   ]
  },
  {
   "cell_type": "markdown",
   "id": "af96c44e",
   "metadata": {},
   "source": [
    "j11 = df.loc[df['linea']=='j11'].reset_index(drop=True)"
   ]
  },
  {
   "cell_type": "markdown",
   "id": "b2ed9e63",
   "metadata": {},
   "source": [
    "j11['enviado a contabilidad'].unique()"
   ]
  },
  {
   "cell_type": "markdown",
   "id": "b6d321d4",
   "metadata": {},
   "source": [
    "pendiente =['PENDIENTE GENERAR NC ', 'PENDIENTE GENERAR OC', 'PENDIENTE SOLICTUD BONIFICACION CONTABILIDAD ']"
   ]
  },
  {
   "cell_type": "markdown",
   "id": "b94483ca",
   "metadata": {},
   "source": [
    "j11.loc[j11['enviado a contabilidad'].isin(pendiente), 'estado_recobro'] = 'Pendiente gestión CD'"
   ]
  },
  {
   "cell_type": "markdown",
   "id": "9909def3",
   "metadata": {},
   "source": [
    "j11.loc[j11['enviado a contabilidad']=='OK ENVIADO A CONTABILIDAD', 'estado_recobro'] = 'Gestión CD finalizada'"
   ]
  },
  {
   "cell_type": "markdown",
   "id": "39dabf07",
   "metadata": {},
   "source": [
    "j11.loc[j11['enviado a contabilidad']==0, 'estado_recobro'] = 'Diferencia entre SRX y CD'"
   ]
  },
  {
   "cell_type": "markdown",
   "id": "0a4a1f73",
   "metadata": {},
   "source": [
    "j11.loc[j11['enviado a contabilidad']=='CD cambia motivo de F4 de recobro a merma', 'estado_recobro'] = 'CD cambia motivo de F4 de recobro a merma'"
   ]
  },
  {
   "cell_type": "markdown",
   "id": "08a80d58",
   "metadata": {},
   "source": [
    "j11.groupby(['estado_recobro'])['total_costo_f4'].sum().sort_values(ascending=False)"
   ]
  },
  {
   "cell_type": "markdown",
   "id": "1bfa8e03",
   "metadata": {},
   "source": [
    "j11.groupby(['comentario_gco'])['total_costo_f4'].sum().sort_values(ascending=False)"
   ]
  },
  {
   "cell_type": "markdown",
   "id": "d08b89f8",
   "metadata": {},
   "source": [
    "j11['comentario_gco'].unique()"
   ]
  },
  {
   "cell_type": "markdown",
   "id": "480eba6a",
   "metadata": {},
   "source": [
    "espera = ['No presentes en base de CD + F4 con fecha reserva mayor a 60 días',\n",
    "       'REXO no encontrado en SAP + F4 con fecha reserva mayor a 60 días',\n",
    "       'NC no encontrada en SAP + F4 con fecha reserva mayor a 60 días',\n",
    "       'FELE no encontrada en SAP + F4 con fecha reserva mayor a 60 días',\n",
    "       'NC encontrada en SAP + Registro SAP anterior a F4',\n",
    "       'F4 realizados después de fecha de corte']"
   ]
  },
  {
   "cell_type": "markdown",
   "id": "23aa34d6",
   "metadata": {},
   "source": [
    "j11.loc[j11['comentario_gco'].isin(espera), 'mes_sap']= 'En espera'"
   ]
  },
  {
   "cell_type": "markdown",
   "id": "88097dbe",
   "metadata": {},
   "source": [
    "j11.columns = [col.lower() for col in j11.columns]"
   ]
  },
  {
   "cell_type": "markdown",
   "id": "57c4b895",
   "metadata": {},
   "source": [
    "import numpy as np"
   ]
  },
  {
   "cell_type": "markdown",
   "id": "a5f64848",
   "metadata": {},
   "source": [
    "j11.loc[j11['fecha registr.diario'] == '2000-01-01', 'fecha registr.diario'] = np.NaN\n",
    "j11['mes_f4'] = j11['fecha_reserva'].dt.strftime('%b')\n",
    "j11['mes_sap'] = j11['fecha registr.diario'].dt.strftime('%b')\n",
    "j11.loc[j11['mes_sap'].isna(), 'mes_sap']= 'En espera'"
   ]
  },
  {
   "cell_type": "markdown",
   "id": "5da5e681",
   "metadata": {},
   "source": [
    "mes_x_mes = j11.groupby(['mes_sap', 'mes_f4']).agg({'tp.asiento contable':'count', 'total_costo_f4':'sum'}).reset_index()\n",
    "mes_x_mes = set_columns_sum(mes_x_mes, 'mes_f4','total_costo_f4')\n",
    "mes_x_mes = set_columns_sum(mes_x_mes, 'mes_sap','total_costo_f4')\n",
    "mes_x_mes"
   ]
  },
  {
   "cell_type": "markdown",
   "id": "66f4d016",
   "metadata": {},
   "source": [
    "table = pd.pivot_table(mes_x_mes, values='total_costo_f4', index=['mes_f4'],\n",
    "                    columns=['mes_sap'], aggfunc=np.sum)"
   ]
  },
  {
   "cell_type": "markdown",
   "id": "af544a69",
   "metadata": {
    "scrolled": true
   },
   "source": [
    "table.applymap(lambda x: f\"$ {x:,.0f}\")"
   ]
  },
  {
   "cell_type": "markdown",
   "id": "e7878069",
   "metadata": {},
   "source": [
    "table = table.reindex(['Jan $24M','Feb $496M', 'Mar $202M', 'Apr $415M'], columns=[ 'Feb $24M', 'Mar $369M', 'Apr $105M','En espera $640M'])"
   ]
  },
  {
   "cell_type": "markdown",
   "id": "7dee9261",
   "metadata": {
    "scrolled": false
   },
   "source": [
    "import plotly.express as px\n",
    "data=[[1, 25, 30, 50, 1], [20, 1, 60, 80, 30], [30, 60, 1, 5, 20]]\n",
    "fig = px.imshow(table, text_auto = '.2s',  labels={'x':'Mes SAP', 'y':'Mes reserva F4'})\n",
    "fig.update_xaxes(side=\"top\")\n",
    "fig.write_image(f\"f4_j11_recobro.svg\",scale=1, height=500,width=700, engine='orca')\n",
    "fig.show()"
   ]
  },
  {
   "cell_type": "markdown",
   "id": "20c630fe",
   "metadata": {
    "scrolled": false
   },
   "source": [
    "import plotly.express as px\n",
    "data=[[1, 25, 30, 50, 1], [20, 1, 60, 80, 30], [30, 60, 1, 5, 20]]\n",
    "fig = px.imshow(table, text_auto = '.2s', title='Mes de reserva F4 vs mes de registro en SAP', labels={'x':'Mes SAP', 'y':'Mes reserva F4'})\n",
    "fig.update_xaxes(side=\"top\")\n",
    "fig.write_image(f\"f4_j11_recobro.svg\",scale=1, height=500,width=900, engine='orca')\n",
    "fig.show()"
   ]
  },
  {
   "cell_type": "markdown",
   "id": "f6ab84d5",
   "metadata": {},
   "source": [
    "tabla = pd.pivot_table(mes_x_mes, values='total_costo_f4', index=['mes_f4'],\n",
    "                    columns=['mes_sap'], aggfunc=np.sum, margins = True, margins_name='Total')\n",
    "tabla = tabla.reindex(['Jan $24M','Feb $496M', 'Mar $202M','Apr $415M','Total'], columns=[ 'Feb $24M', 'Mar $369M', 'Apr $105M','En espera $640M', 'Total'])\n",
    "tabla"
   ]
  },
  {
   "cell_type": "markdown",
   "id": "24fcdcaf",
   "metadata": {
    "scrolled": true
   },
   "source": [
    "tabla.applymap(lambda x: f\"$ {x:,.0f}\")"
   ]
  },
  {
   "cell_type": "markdown",
   "id": "bd88d532",
   "metadata": {},
   "source": [
    "j11.to_excel('220512_f4_recobro_j11.xlsx')"
   ]
  },
  {
   "cell_type": "code",
   "execution_count": null,
   "id": "65e7719c",
   "metadata": {},
   "outputs": [],
   "source": []
  }
 ],
 "metadata": {
  "kernelspec": {
   "display_name": "Python 3.9.12 ('base')",
   "language": "python",
   "name": "python3"
  },
  "language_info": {
   "codemirror_mode": {
    "name": "ipython",
    "version": 3
   },
   "file_extension": ".py",
   "mimetype": "text/x-python",
   "name": "python",
   "nbconvert_exporter": "python",
   "pygments_lexer": "ipython3",
   "version": "3.9.12"
  },
  "vscode": {
   "interpreter": {
    "hash": "82a490cbc5ab7ede3fb5f9c339977e226ff85331602536a0bba4d2a51bd464ee"
   }
  }
 },
 "nbformat": 4,
 "nbformat_minor": 5
}
